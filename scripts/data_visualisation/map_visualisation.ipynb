{
 "cells": [
  {
   "cell_type": "code",
   "execution_count": 14,
   "metadata": {},
   "outputs": [],
   "source": [
    "import plotly.graph_objs as go\n",
    "import plotly.express as px\n",
    "import matplotlib.pyplot as plt\n",
    "import pandas as pd\n",
    "import numpy as np\n",
    "import seaborn as sns\n",
    "from ipywidgets import interact, interactive, fixed, interact_manual\n",
    "from IPython.display import display\n",
    "from ipywidgets import GridspecLayout\n",
    "import ipywidgets as widgets\n",
    "import math\n",
    "import geojson\n",
    "\n",
    "def display_all(df):\n",
    "    pd.set_option('display.max_rows', None)\n",
    "    display(df)\n",
    "    pd.reset_option('display.max_rows')\n",
    "\n",
    "pd.set_option('display.max_columns', None)"
   ]
  },
  {
   "cell_type": "code",
   "execution_count": 15,
   "metadata": {},
   "outputs": [
    {
     "data": {
      "text/html": [
       "<div>\n",
       "<style scoped>\n",
       "    .dataframe tbody tr th:only-of-type {\n",
       "        vertical-align: middle;\n",
       "    }\n",
       "\n",
       "    .dataframe tbody tr th {\n",
       "        vertical-align: top;\n",
       "    }\n",
       "\n",
       "    .dataframe thead th {\n",
       "        text-align: right;\n",
       "    }\n",
       "</style>\n",
       "<table border=\"1\" class=\"dataframe\">\n",
       "  <thead>\n",
       "    <tr style=\"text-align: right;\">\n",
       "      <th></th>\n",
       "      <th>LOC_CODE</th>\n",
       "      <th>LOC</th>\n",
       "      <th>WATERBODY</th>\n",
       "      <th>TYPE</th>\n",
       "      <th>DATE_SMP</th>\n",
       "      <th>YEAR</th>\n",
       "      <th>MONTH</th>\n",
       "      <th>DAY</th>\n",
       "      <th>Q_clndr</th>\n",
       "      <th>Q_eco</th>\n",
       "      <th>PROD_CODE</th>\n",
       "      <th>SPECIES</th>\n",
       "      <th>SPEC</th>\n",
       "      <th>GROUP</th>\n",
       "      <th>AMT_MEAS</th>\n",
       "      <th>cL</th>\n",
       "      <th>LcL</th>\n",
       "    </tr>\n",
       "  </thead>\n",
       "  <tbody>\n",
       "    <tr>\n",
       "      <th>0</th>\n",
       "      <td>GROOTGND</td>\n",
       "      <td>EDG</td>\n",
       "      <td>EEMSDOLLARD</td>\n",
       "      <td>ESTUARINE</td>\n",
       "      <td>2005-01-21</td>\n",
       "      <td>NaN</td>\n",
       "      <td>NaN</td>\n",
       "      <td>NaN</td>\n",
       "      <td>NaN</td>\n",
       "      <td>1</td>\n",
       "      <td>OW</td>\n",
       "      <td>Actinocyclus normanii</td>\n",
       "      <td>Acn</td>\n",
       "      <td>DIAT</td>\n",
       "      <td>1.0</td>\n",
       "      <td>5000.000000</td>\n",
       "      <td>NaN</td>\n",
       "    </tr>\n",
       "    <tr>\n",
       "      <th>1</th>\n",
       "      <td>GROOTGND</td>\n",
       "      <td>EDG</td>\n",
       "      <td>EEMSDOLLARD</td>\n",
       "      <td>ESTUARINE</td>\n",
       "      <td>1994-01-25</td>\n",
       "      <td>NaN</td>\n",
       "      <td>NaN</td>\n",
       "      <td>NaN</td>\n",
       "      <td>NaN</td>\n",
       "      <td>1</td>\n",
       "      <td>WATSGL</td>\n",
       "      <td>Actinocyclus normanii</td>\n",
       "      <td>Acn</td>\n",
       "      <td>DIAT</td>\n",
       "      <td>NaN</td>\n",
       "      <td>2000.000000</td>\n",
       "      <td>NaN</td>\n",
       "    </tr>\n",
       "    <tr>\n",
       "      <th>2</th>\n",
       "      <td>GROOTGND</td>\n",
       "      <td>EDG</td>\n",
       "      <td>EEMSDOLLARD</td>\n",
       "      <td>ESTUARINE</td>\n",
       "      <td>1994-02-24</td>\n",
       "      <td>NaN</td>\n",
       "      <td>NaN</td>\n",
       "      <td>NaN</td>\n",
       "      <td>NaN</td>\n",
       "      <td>1</td>\n",
       "      <td>WATSGL</td>\n",
       "      <td>Actinocyclus normanii</td>\n",
       "      <td>Acn</td>\n",
       "      <td>DIAT</td>\n",
       "      <td>NaN</td>\n",
       "      <td>485.000000</td>\n",
       "      <td>NaN</td>\n",
       "    </tr>\n",
       "    <tr>\n",
       "      <th>3</th>\n",
       "      <td>GROOTGND</td>\n",
       "      <td>EDG</td>\n",
       "      <td>EEMSDOLLARD</td>\n",
       "      <td>ESTUARINE</td>\n",
       "      <td>2001-03-22</td>\n",
       "      <td>NaN</td>\n",
       "      <td>NaN</td>\n",
       "      <td>NaN</td>\n",
       "      <td>NaN</td>\n",
       "      <td>2</td>\n",
       "      <td>OW</td>\n",
       "      <td>Actinocyclus normanii</td>\n",
       "      <td>Acn</td>\n",
       "      <td>DIAT</td>\n",
       "      <td>1.0</td>\n",
       "      <td>833.333333</td>\n",
       "      <td>NaN</td>\n",
       "    </tr>\n",
       "    <tr>\n",
       "      <th>4</th>\n",
       "      <td>GROOTGND</td>\n",
       "      <td>EDG</td>\n",
       "      <td>EEMSDOLLARD</td>\n",
       "      <td>ESTUARINE</td>\n",
       "      <td>2002-03-13</td>\n",
       "      <td>NaN</td>\n",
       "      <td>NaN</td>\n",
       "      <td>NaN</td>\n",
       "      <td>NaN</td>\n",
       "      <td>2</td>\n",
       "      <td>OW</td>\n",
       "      <td>Actinocyclus normanii</td>\n",
       "      <td>Acn</td>\n",
       "      <td>DIAT</td>\n",
       "      <td>2.0</td>\n",
       "      <td>4000.000000</td>\n",
       "      <td>NaN</td>\n",
       "    </tr>\n",
       "  </tbody>\n",
       "</table>\n",
       "</div>"
      ],
      "text/plain": [
       "   LOC_CODE  LOC    WATERBODY       TYPE   DATE_SMP  YEAR  MONTH  DAY  \\\n",
       "0  GROOTGND  EDG  EEMSDOLLARD  ESTUARINE 2005-01-21   NaN    NaN  NaN   \n",
       "1  GROOTGND  EDG  EEMSDOLLARD  ESTUARINE 1994-01-25   NaN    NaN  NaN   \n",
       "2  GROOTGND  EDG  EEMSDOLLARD  ESTUARINE 1994-02-24   NaN    NaN  NaN   \n",
       "3  GROOTGND  EDG  EEMSDOLLARD  ESTUARINE 2001-03-22   NaN    NaN  NaN   \n",
       "4  GROOTGND  EDG  EEMSDOLLARD  ESTUARINE 2002-03-13   NaN    NaN  NaN   \n",
       "\n",
       "   Q_clndr  Q_eco PROD_CODE                SPECIES SPEC GROUP  AMT_MEAS  \\\n",
       "0      NaN      1        OW  Actinocyclus normanii  Acn  DIAT       1.0   \n",
       "1      NaN      1    WATSGL  Actinocyclus normanii  Acn  DIAT       NaN   \n",
       "2      NaN      1    WATSGL  Actinocyclus normanii  Acn  DIAT       NaN   \n",
       "3      NaN      2        OW  Actinocyclus normanii  Acn  DIAT       1.0   \n",
       "4      NaN      2        OW  Actinocyclus normanii  Acn  DIAT       2.0   \n",
       "\n",
       "            cL  LcL  \n",
       "0  5000.000000  NaN  \n",
       "1  2000.000000  NaN  \n",
       "2   485.000000  NaN  \n",
       "3   833.333333  NaN  \n",
       "4  4000.000000  NaN  "
      ]
     },
     "execution_count": 15,
     "metadata": {},
     "output_type": "execute_result"
    }
   ],
   "source": [
    "biotic_df = pd.read_excel('../../data/PHYTO.xlsx', sheet_name='PHYTO_SURF')\n",
    "biotic_df.head()"
   ]
  },
  {
   "cell_type": "code",
   "execution_count": 16,
   "metadata": {},
   "outputs": [
    {
     "data": {
      "text/html": [
       "<div>\n",
       "<style scoped>\n",
       "    .dataframe tbody tr th:only-of-type {\n",
       "        vertical-align: middle;\n",
       "    }\n",
       "\n",
       "    .dataframe tbody tr th {\n",
       "        vertical-align: top;\n",
       "    }\n",
       "\n",
       "    .dataframe thead th {\n",
       "        text-align: right;\n",
       "    }\n",
       "</style>\n",
       "<table border=\"1\" class=\"dataframe\">\n",
       "  <thead>\n",
       "    <tr style=\"text-align: right;\">\n",
       "      <th></th>\n",
       "      <th>LOC</th>\n",
       "      <th>LOC_CODE</th>\n",
       "      <th>count</th>\n",
       "    </tr>\n",
       "  </thead>\n",
       "  <tbody>\n",
       "    <tr>\n",
       "      <th>0</th>\n",
       "      <td>NW10</td>\n",
       "      <td>NOORDWK10</td>\n",
       "      <td>8065</td>\n",
       "    </tr>\n",
       "    <tr>\n",
       "      <th>1</th>\n",
       "      <td>EDH</td>\n",
       "      <td>HUIBGOT</td>\n",
       "      <td>6954</td>\n",
       "    </tr>\n",
       "    <tr>\n",
       "      <th>2</th>\n",
       "      <td>WZM</td>\n",
       "      <td>MARSDND</td>\n",
       "      <td>6927</td>\n",
       "    </tr>\n",
       "    <tr>\n",
       "      <th>3</th>\n",
       "      <td>WZD</td>\n",
       "      <td>DANTZGT</td>\n",
       "      <td>6460</td>\n",
       "    </tr>\n",
       "    <tr>\n",
       "      <th>4</th>\n",
       "      <td>WSV</td>\n",
       "      <td>VLISSGBISSVH</td>\n",
       "      <td>5926</td>\n",
       "    </tr>\n",
       "  </tbody>\n",
       "</table>\n",
       "</div>"
      ],
      "text/plain": [
       "    LOC      LOC_CODE  count\n",
       "0  NW10     NOORDWK10   8065\n",
       "1   EDH       HUIBGOT   6954\n",
       "2   WZM       MARSDND   6927\n",
       "3   WZD       DANTZGT   6460\n",
       "4   WSV  VLISSGBISSVH   5926"
      ]
     },
     "metadata": {},
     "output_type": "display_data"
    }
   ],
   "source": [
    "grouped_locations = biotic_df.groupby([\"LOC\", \"LOC_CODE\"]).size().reset_index(name='count').sort_values(by='count', ascending=False).reset_index(drop=True)\n",
    "\n",
    "display(grouped_locations.head())"
   ]
  },
  {
   "cell_type": "code",
   "execution_count": 17,
   "metadata": {},
   "outputs": [
    {
     "data": {
      "text/html": [
       "<div>\n",
       "<style scoped>\n",
       "    .dataframe tbody tr th:only-of-type {\n",
       "        vertical-align: middle;\n",
       "    }\n",
       "\n",
       "    .dataframe tbody tr th {\n",
       "        vertical-align: top;\n",
       "    }\n",
       "\n",
       "    .dataframe thead th {\n",
       "        text-align: right;\n",
       "    }\n",
       "</style>\n",
       "<table border=\"1\" class=\"dataframe\">\n",
       "  <thead>\n",
       "    <tr style=\"text-align: right;\">\n",
       "      <th></th>\n",
       "      <th>DONAR CODE</th>\n",
       "      <th>DONAR-DESCRIPTION</th>\n",
       "      <th>LOC</th>\n",
       "      <th>Lat</th>\n",
       "      <th>Lon</th>\n",
       "      <th>WATERBODY</th>\n",
       "      <th>TYPE</th>\n",
       "      <th>h (m)</th>\n",
       "    </tr>\n",
       "  </thead>\n",
       "  <tbody>\n",
       "    <tr>\n",
       "      <th>0</th>\n",
       "      <td>GROOTGND</td>\n",
       "      <td>Groote Gat noord</td>\n",
       "      <td>EDG</td>\n",
       "      <td>NB 53 18 15</td>\n",
       "      <td>OL 07 09 24</td>\n",
       "      <td>EEMSDOLLARD</td>\n",
       "      <td>ESTUARINE</td>\n",
       "      <td>5.9</td>\n",
       "    </tr>\n",
       "    <tr>\n",
       "      <th>1</th>\n",
       "      <td>HUIBGOT</td>\n",
       "      <td>Huibertgat oost</td>\n",
       "      <td>EDH</td>\n",
       "      <td>NB 53 33 33</td>\n",
       "      <td>OL 06 39 40</td>\n",
       "      <td>EEMSDOLLARD</td>\n",
       "      <td>ESTUARINE</td>\n",
       "      <td>27.9</td>\n",
       "    </tr>\n",
       "    <tr>\n",
       "      <th>2</th>\n",
       "      <td>DREISR</td>\n",
       "      <td>Dreischor</td>\n",
       "      <td>GMD</td>\n",
       "      <td>NB 51 42 53</td>\n",
       "      <td>OL 03 59 58</td>\n",
       "      <td>GREVELINGENMEER</td>\n",
       "      <td>LAKE</td>\n",
       "      <td>19.3</td>\n",
       "    </tr>\n",
       "    <tr>\n",
       "      <th>3</th>\n",
       "      <td>GOERE6</td>\n",
       "      <td>Goeree 6 km uit de kust</td>\n",
       "      <td>GOE6</td>\n",
       "      <td>NB 51 52 08</td>\n",
       "      <td>OL 03 52 20</td>\n",
       "      <td>NOORDZEE</td>\n",
       "      <td>COAST</td>\n",
       "      <td>8.8</td>\n",
       "    </tr>\n",
       "    <tr>\n",
       "      <th>4</th>\n",
       "      <td>NOORDWK10</td>\n",
       "      <td>Noordwijk 10 km uit de kust</td>\n",
       "      <td>NW10</td>\n",
       "      <td>NB 52 18 05</td>\n",
       "      <td>OL 04 18 04</td>\n",
       "      <td>NOORDZEE</td>\n",
       "      <td>COAST</td>\n",
       "      <td>18.2</td>\n",
       "    </tr>\n",
       "  </tbody>\n",
       "</table>\n",
       "</div>"
      ],
      "text/plain": [
       "  DONAR CODE            DONAR-DESCRIPTION   LOC           Lat          Lon  \\\n",
       "0   GROOTGND             Groote Gat noord   EDG   NB 53 18 15  OL 07 09 24   \n",
       "1    HUIBGOT              Huibertgat oost   EDH  NB 53 33 33   OL 06 39 40   \n",
       "2     DREISR                    Dreischor   GMD   NB 51 42 53  OL 03 59 58   \n",
       "3     GOERE6      Goeree 6 km uit de kust  GOE6   NB 51 52 08  OL 03 52 20   \n",
       "4  NOORDWK10  Noordwijk 10 km uit de kust  NW10   NB 52 18 05  OL 04 18 04   \n",
       "\n",
       "         WATERBODY       TYPE  h (m)  \n",
       "0      EEMSDOLLARD  ESTUARINE    5.9  \n",
       "1      EEMSDOLLARD  ESTUARINE   27.9  \n",
       "2  GREVELINGENMEER       LAKE   19.3  \n",
       "3         NOORDZEE      COAST    8.8  \n",
       "4         NOORDZEE      COAST   18.2  "
      ]
     },
     "metadata": {},
     "output_type": "display_data"
    }
   ],
   "source": [
    "df = pd.read_excel('../../miscellaneous/2024_NIOZ_UvA_Plankton_ABIO_coupling.xlsx', sheet_name='Tables ABIO', skiprows=2, nrows=27, usecols=\"A,B, D:H, J\")\n",
    "\n",
    "df.rename(columns={'LATITUDE ( WGS84 )': 'Lat', 'LONGITUDE ( WGS84 )': 'Lon'}, inplace=True)\n",
    "\n",
    "\n",
    "display(df.head())"
   ]
  },
  {
   "cell_type": "code",
   "execution_count": 18,
   "metadata": {},
   "outputs": [
    {
     "data": {
      "text/html": [
       "<div>\n",
       "<style scoped>\n",
       "    .dataframe tbody tr th:only-of-type {\n",
       "        vertical-align: middle;\n",
       "    }\n",
       "\n",
       "    .dataframe tbody tr th {\n",
       "        vertical-align: top;\n",
       "    }\n",
       "\n",
       "    .dataframe thead th {\n",
       "        text-align: right;\n",
       "    }\n",
       "</style>\n",
       "<table border=\"1\" class=\"dataframe\">\n",
       "  <thead>\n",
       "    <tr style=\"text-align: right;\">\n",
       "      <th></th>\n",
       "      <th>DONAR CODE</th>\n",
       "      <th>DONAR-DESCRIPTION</th>\n",
       "      <th>LOC</th>\n",
       "      <th>Lat</th>\n",
       "      <th>Lon</th>\n",
       "      <th>WATERBODY</th>\n",
       "      <th>TYPE</th>\n",
       "      <th>h (m)</th>\n",
       "    </tr>\n",
       "  </thead>\n",
       "  <tbody>\n",
       "    <tr>\n",
       "      <th>0</th>\n",
       "      <td>GROOTGND</td>\n",
       "      <td>Groote Gat noord</td>\n",
       "      <td>EDG</td>\n",
       "      <td>53.304167</td>\n",
       "      <td>7.156667</td>\n",
       "      <td>EEMSDOLLARD</td>\n",
       "      <td>ESTUARINE</td>\n",
       "      <td>5.9</td>\n",
       "    </tr>\n",
       "    <tr>\n",
       "      <th>1</th>\n",
       "      <td>HUIBGOT</td>\n",
       "      <td>Huibertgat oost</td>\n",
       "      <td>EDH</td>\n",
       "      <td>53.559167</td>\n",
       "      <td>6.661111</td>\n",
       "      <td>EEMSDOLLARD</td>\n",
       "      <td>ESTUARINE</td>\n",
       "      <td>27.9</td>\n",
       "    </tr>\n",
       "    <tr>\n",
       "      <th>2</th>\n",
       "      <td>DREISR</td>\n",
       "      <td>Dreischor</td>\n",
       "      <td>GMD</td>\n",
       "      <td>51.714722</td>\n",
       "      <td>3.999444</td>\n",
       "      <td>GREVELINGENMEER</td>\n",
       "      <td>LAKE</td>\n",
       "      <td>19.3</td>\n",
       "    </tr>\n",
       "    <tr>\n",
       "      <th>3</th>\n",
       "      <td>GOERE6</td>\n",
       "      <td>Goeree 6 km uit de kust</td>\n",
       "      <td>GOE6</td>\n",
       "      <td>51.868889</td>\n",
       "      <td>3.872222</td>\n",
       "      <td>NOORDZEE</td>\n",
       "      <td>COAST</td>\n",
       "      <td>8.8</td>\n",
       "    </tr>\n",
       "    <tr>\n",
       "      <th>4</th>\n",
       "      <td>NOORDWK10</td>\n",
       "      <td>Noordwijk 10 km uit de kust</td>\n",
       "      <td>NW10</td>\n",
       "      <td>52.301389</td>\n",
       "      <td>4.301111</td>\n",
       "      <td>NOORDZEE</td>\n",
       "      <td>COAST</td>\n",
       "      <td>18.2</td>\n",
       "    </tr>\n",
       "    <tr>\n",
       "      <th>5</th>\n",
       "      <td>NOORDWK2</td>\n",
       "      <td>Noordwijk 2 km uit de kust</td>\n",
       "      <td>NW2</td>\n",
       "      <td>52.260556</td>\n",
       "      <td>4.404722</td>\n",
       "      <td>NOORDZEE</td>\n",
       "      <td>COAST</td>\n",
       "      <td>13.0</td>\n",
       "    </tr>\n",
       "    <tr>\n",
       "      <th>6</th>\n",
       "      <td>NOORDWK20</td>\n",
       "      <td>Noordwijk 20 km uit de kust</td>\n",
       "      <td>NW20</td>\n",
       "      <td>52.340833</td>\n",
       "      <td>4.173611</td>\n",
       "      <td>NOORDZEE</td>\n",
       "      <td>COAST</td>\n",
       "      <td>20.0</td>\n",
       "    </tr>\n",
       "    <tr>\n",
       "      <th>7</th>\n",
       "      <td>NOORDWK70</td>\n",
       "      <td>Noordwijk 70 km uit de kust</td>\n",
       "      <td>NW70</td>\n",
       "      <td>52.585278</td>\n",
       "      <td>3.530000</td>\n",
       "      <td>NOORDZEE</td>\n",
       "      <td>OPENSEA</td>\n",
       "      <td>28.0</td>\n",
       "    </tr>\n",
       "    <tr>\n",
       "      <th>8</th>\n",
       "      <td>LODSGT</td>\n",
       "      <td>Lodijkse Gat</td>\n",
       "      <td>OSL</td>\n",
       "      <td>51.515278</td>\n",
       "      <td>4.126944</td>\n",
       "      <td>OOSTERSCHELDE</td>\n",
       "      <td>ESTUARINE</td>\n",
       "      <td>4.8</td>\n",
       "    </tr>\n",
       "    <tr>\n",
       "      <th>9</th>\n",
       "      <td>ROTTMPT3</td>\n",
       "      <td>Rottumerplaat 3 km uit de kust</td>\n",
       "      <td>RP3</td>\n",
       "      <td>53.565278</td>\n",
       "      <td>6.562778</td>\n",
       "      <td>NOORDZEE</td>\n",
       "      <td>COAST</td>\n",
       "      <td>9.0</td>\n",
       "    </tr>\n",
       "    <tr>\n",
       "      <th>10</th>\n",
       "      <td>ROTTMPT50</td>\n",
       "      <td>Rottumerplaat 50 km uit de kust</td>\n",
       "      <td>RP50</td>\n",
       "      <td>53.953056</td>\n",
       "      <td>6.308611</td>\n",
       "      <td>NOORDZEE</td>\n",
       "      <td>OPENSEA</td>\n",
       "      <td>20.0</td>\n",
       "    </tr>\n",
       "    <tr>\n",
       "      <th>11</th>\n",
       "      <td>ROTTMPT70</td>\n",
       "      <td>Rottumerplaat 70 km uit de kust</td>\n",
       "      <td>RP70</td>\n",
       "      <td>54.117222</td>\n",
       "      <td>6.212778</td>\n",
       "      <td>NOORDZEE</td>\n",
       "      <td>OPENSEA</td>\n",
       "      <td>24.0</td>\n",
       "    </tr>\n",
       "    <tr>\n",
       "      <th>12</th>\n",
       "      <td>TERSLG10</td>\n",
       "      <td>Terschelling 10 km uit de kust</td>\n",
       "      <td>TS10</td>\n",
       "      <td>53.460278</td>\n",
       "      <td>5.099444</td>\n",
       "      <td>NOORDZEE</td>\n",
       "      <td>COAST</td>\n",
       "      <td>24.3</td>\n",
       "    </tr>\n",
       "    <tr>\n",
       "      <th>13</th>\n",
       "      <td>TERSLG100</td>\n",
       "      <td>Terschelling 100 km uit de kust</td>\n",
       "      <td>TS100</td>\n",
       "      <td>54.148611</td>\n",
       "      <td>4.340556</td>\n",
       "      <td>NOORDZEE</td>\n",
       "      <td>OPENSEA</td>\n",
       "      <td>48.6</td>\n",
       "    </tr>\n",
       "    <tr>\n",
       "      <th>14</th>\n",
       "      <td>TERSLG135</td>\n",
       "      <td>Terschelling 135 km uit de kust</td>\n",
       "      <td>TS135</td>\n",
       "      <td>54.414722</td>\n",
       "      <td>4.039722</td>\n",
       "      <td>NOORDZEE</td>\n",
       "      <td>OPENSEA</td>\n",
       "      <td>35.0</td>\n",
       "    </tr>\n",
       "    <tr>\n",
       "      <th>15</th>\n",
       "      <td>TERSLG175</td>\n",
       "      <td>Terschelling 175 km uit de kust</td>\n",
       "      <td>TS175</td>\n",
       "      <td>54.718333</td>\n",
       "      <td>3.690278</td>\n",
       "      <td>NOORDZEE</td>\n",
       "      <td>OPENSEA</td>\n",
       "      <td>35.0</td>\n",
       "    </tr>\n",
       "    <tr>\n",
       "      <th>16</th>\n",
       "      <td>TERSLG235</td>\n",
       "      <td>Terschelling 235 km uit de kust</td>\n",
       "      <td>TS235</td>\n",
       "      <td>55.171389</td>\n",
       "      <td>3.156111</td>\n",
       "      <td>NOORDZEE</td>\n",
       "      <td>OPENSEA</td>\n",
       "      <td>18.0</td>\n",
       "    </tr>\n",
       "    <tr>\n",
       "      <th>17</th>\n",
       "      <td>TERSLG4</td>\n",
       "      <td>Terschelling 4 km uit de kust</td>\n",
       "      <td>TS4</td>\n",
       "      <td>53.414444</td>\n",
       "      <td>5.149167</td>\n",
       "      <td>NOORDZEE</td>\n",
       "      <td>COAST</td>\n",
       "      <td>13.1</td>\n",
       "    </tr>\n",
       "    <tr>\n",
       "      <th>18</th>\n",
       "      <td>SOELKKPDOT</td>\n",
       "      <td>Soelekerkerpolder oost</td>\n",
       "      <td>VMS</td>\n",
       "      <td>51.542222</td>\n",
       "      <td>3.730833</td>\n",
       "      <td>VEERSEMEER</td>\n",
       "      <td>LAKE</td>\n",
       "      <td>25.0</td>\n",
       "    </tr>\n",
       "    <tr>\n",
       "      <th>19</th>\n",
       "      <td>WALCRN2</td>\n",
       "      <td>Walcheren 2 km uit de kust</td>\n",
       "      <td>WA2</td>\n",
       "      <td>51.548056</td>\n",
       "      <td>3.409444</td>\n",
       "      <td>NOORDZEE</td>\n",
       "      <td>COAST</td>\n",
       "      <td>8.0</td>\n",
       "    </tr>\n",
       "    <tr>\n",
       "      <th>20</th>\n",
       "      <td>WALCRN20</td>\n",
       "      <td>Walcheren 20 km uit de kust</td>\n",
       "      <td>WA20</td>\n",
       "      <td>51.657778</td>\n",
       "      <td>3.219167</td>\n",
       "      <td>NOORDZEE</td>\n",
       "      <td>COAST</td>\n",
       "      <td>22.0</td>\n",
       "    </tr>\n",
       "    <tr>\n",
       "      <th>21</th>\n",
       "      <td>WALCRN70</td>\n",
       "      <td>Walcheren 70 km uit de kust</td>\n",
       "      <td>WA70</td>\n",
       "      <td>51.956111</td>\n",
       "      <td>2.677778</td>\n",
       "      <td>NOORDZEE</td>\n",
       "      <td>OPENSEA</td>\n",
       "      <td>30.0</td>\n",
       "    </tr>\n",
       "    <tr>\n",
       "      <th>22</th>\n",
       "      <td>HANSWGL</td>\n",
       "      <td>Hansweert geul</td>\n",
       "      <td>WSH</td>\n",
       "      <td>51.436111</td>\n",
       "      <td>4.014167</td>\n",
       "      <td>WESTERSCHELDE</td>\n",
       "      <td>ESTUARINE</td>\n",
       "      <td>17.3</td>\n",
       "    </tr>\n",
       "    <tr>\n",
       "      <th>23</th>\n",
       "      <td>SCHAARVODDL</td>\n",
       "      <td>Schaar van Ouden Doel</td>\n",
       "      <td>WSO</td>\n",
       "      <td>51.350278</td>\n",
       "      <td>4.250556</td>\n",
       "      <td>WESTERSCHELDE</td>\n",
       "      <td>ESTUARINE</td>\n",
       "      <td>14.9</td>\n",
       "    </tr>\n",
       "    <tr>\n",
       "      <th>24</th>\n",
       "      <td>VLISSGBISSVH</td>\n",
       "      <td>Vlissingen boei SSVH</td>\n",
       "      <td>WSV</td>\n",
       "      <td>51.411944</td>\n",
       "      <td>3.565556</td>\n",
       "      <td>WESTERSCHELDE</td>\n",
       "      <td>ESTUARINE</td>\n",
       "      <td>18.2</td>\n",
       "    </tr>\n",
       "    <tr>\n",
       "      <th>25</th>\n",
       "      <td>DANTZGT</td>\n",
       "      <td>Dantziggat</td>\n",
       "      <td>WZD</td>\n",
       "      <td>53.401111</td>\n",
       "      <td>5.726944</td>\n",
       "      <td>WADDENZEE</td>\n",
       "      <td>ESTUARINE</td>\n",
       "      <td>9.5</td>\n",
       "    </tr>\n",
       "    <tr>\n",
       "      <th>26</th>\n",
       "      <td>MARSDND</td>\n",
       "      <td>Marsdiep noord</td>\n",
       "      <td>WZM</td>\n",
       "      <td>52.982500</td>\n",
       "      <td>4.750000</td>\n",
       "      <td>WADDENZEE</td>\n",
       "      <td>ESTUARINE</td>\n",
       "      <td>15.9</td>\n",
       "    </tr>\n",
       "  </tbody>\n",
       "</table>\n",
       "</div>"
      ],
      "text/plain": [
       "      DONAR CODE                DONAR-DESCRIPTION    LOC        Lat       Lon  \\\n",
       "0       GROOTGND                 Groote Gat noord    EDG  53.304167  7.156667   \n",
       "1        HUIBGOT                  Huibertgat oost    EDH  53.559167  6.661111   \n",
       "2         DREISR                        Dreischor    GMD  51.714722  3.999444   \n",
       "3         GOERE6          Goeree 6 km uit de kust   GOE6  51.868889  3.872222   \n",
       "4      NOORDWK10      Noordwijk 10 km uit de kust   NW10  52.301389  4.301111   \n",
       "5       NOORDWK2       Noordwijk 2 km uit de kust    NW2  52.260556  4.404722   \n",
       "6      NOORDWK20      Noordwijk 20 km uit de kust   NW20  52.340833  4.173611   \n",
       "7      NOORDWK70      Noordwijk 70 km uit de kust   NW70  52.585278  3.530000   \n",
       "8         LODSGT                     Lodijkse Gat    OSL  51.515278  4.126944   \n",
       "9       ROTTMPT3   Rottumerplaat 3 km uit de kust    RP3  53.565278  6.562778   \n",
       "10     ROTTMPT50  Rottumerplaat 50 km uit de kust   RP50  53.953056  6.308611   \n",
       "11     ROTTMPT70  Rottumerplaat 70 km uit de kust   RP70  54.117222  6.212778   \n",
       "12      TERSLG10   Terschelling 10 km uit de kust   TS10  53.460278  5.099444   \n",
       "13     TERSLG100  Terschelling 100 km uit de kust  TS100  54.148611  4.340556   \n",
       "14     TERSLG135  Terschelling 135 km uit de kust  TS135  54.414722  4.039722   \n",
       "15     TERSLG175  Terschelling 175 km uit de kust  TS175  54.718333  3.690278   \n",
       "16     TERSLG235  Terschelling 235 km uit de kust  TS235  55.171389  3.156111   \n",
       "17       TERSLG4    Terschelling 4 km uit de kust    TS4  53.414444  5.149167   \n",
       "18    SOELKKPDOT           Soelekerkerpolder oost    VMS  51.542222  3.730833   \n",
       "19       WALCRN2       Walcheren 2 km uit de kust    WA2  51.548056  3.409444   \n",
       "20      WALCRN20      Walcheren 20 km uit de kust   WA20  51.657778  3.219167   \n",
       "21      WALCRN70      Walcheren 70 km uit de kust   WA70  51.956111  2.677778   \n",
       "22       HANSWGL                   Hansweert geul    WSH  51.436111  4.014167   \n",
       "23   SCHAARVODDL            Schaar van Ouden Doel    WSO  51.350278  4.250556   \n",
       "24  VLISSGBISSVH             Vlissingen boei SSVH    WSV  51.411944  3.565556   \n",
       "25       DANTZGT                       Dantziggat    WZD  53.401111  5.726944   \n",
       "26       MARSDND                   Marsdiep noord    WZM  52.982500  4.750000   \n",
       "\n",
       "          WATERBODY       TYPE  h (m)  \n",
       "0       EEMSDOLLARD  ESTUARINE    5.9  \n",
       "1       EEMSDOLLARD  ESTUARINE   27.9  \n",
       "2   GREVELINGENMEER       LAKE   19.3  \n",
       "3          NOORDZEE      COAST    8.8  \n",
       "4          NOORDZEE      COAST   18.2  \n",
       "5          NOORDZEE      COAST   13.0  \n",
       "6          NOORDZEE      COAST   20.0  \n",
       "7          NOORDZEE    OPENSEA   28.0  \n",
       "8     OOSTERSCHELDE  ESTUARINE    4.8  \n",
       "9          NOORDZEE      COAST    9.0  \n",
       "10         NOORDZEE    OPENSEA   20.0  \n",
       "11         NOORDZEE    OPENSEA   24.0  \n",
       "12         NOORDZEE      COAST   24.3  \n",
       "13         NOORDZEE    OPENSEA   48.6  \n",
       "14         NOORDZEE    OPENSEA   35.0  \n",
       "15         NOORDZEE    OPENSEA   35.0  \n",
       "16         NOORDZEE    OPENSEA   18.0  \n",
       "17         NOORDZEE      COAST   13.1  \n",
       "18       VEERSEMEER       LAKE   25.0  \n",
       "19         NOORDZEE      COAST    8.0  \n",
       "20         NOORDZEE      COAST   22.0  \n",
       "21         NOORDZEE    OPENSEA   30.0  \n",
       "22    WESTERSCHELDE  ESTUARINE   17.3  \n",
       "23    WESTERSCHELDE  ESTUARINE   14.9  \n",
       "24    WESTERSCHELDE  ESTUARINE   18.2  \n",
       "25        WADDENZEE  ESTUARINE    9.5  \n",
       "26        WADDENZEE  ESTUARINE   15.9  "
      ]
     },
     "execution_count": 18,
     "metadata": {},
     "output_type": "execute_result"
    }
   ],
   "source": [
    "def dms_to_dd(dms):\n",
    "    _, degrees, minutes, seconds = dms.split()\n",
    "\n",
    "    return int(degrees) + int(minutes)/60 + int(seconds)/3600\n",
    "\n",
    "df[\"Lat\"] = df[\"Lat\"].apply(dms_to_dd)\n",
    "df[\"Lon\"] = df[\"Lon\"].apply(dms_to_dd)\n",
    "\n",
    "df"
   ]
  },
  {
   "cell_type": "code",
   "execution_count": 19,
   "metadata": {},
   "outputs": [
    {
     "data": {
      "text/html": [
       "<div>\n",
       "<style scoped>\n",
       "    .dataframe tbody tr th:only-of-type {\n",
       "        vertical-align: middle;\n",
       "    }\n",
       "\n",
       "    .dataframe tbody tr th {\n",
       "        vertical-align: top;\n",
       "    }\n",
       "\n",
       "    .dataframe thead th {\n",
       "        text-align: right;\n",
       "    }\n",
       "</style>\n",
       "<table border=\"1\" class=\"dataframe\">\n",
       "  <thead>\n",
       "    <tr style=\"text-align: right;\">\n",
       "      <th></th>\n",
       "      <th>DONAR CODE</th>\n",
       "      <th>DONAR-DESCRIPTION</th>\n",
       "      <th>LOC</th>\n",
       "      <th>Lat</th>\n",
       "      <th>Lon</th>\n",
       "      <th>WATERBODY</th>\n",
       "      <th>TYPE</th>\n",
       "      <th>h (m)</th>\n",
       "      <th>count</th>\n",
       "    </tr>\n",
       "  </thead>\n",
       "  <tbody>\n",
       "    <tr>\n",
       "      <th>0</th>\n",
       "      <td>NOORDWK10</td>\n",
       "      <td>Noordwijk 10 km uit de kust</td>\n",
       "      <td>NW10</td>\n",
       "      <td>52.301389</td>\n",
       "      <td>4.301111</td>\n",
       "      <td>NOORDZEE</td>\n",
       "      <td>COAST</td>\n",
       "      <td>18.2</td>\n",
       "      <td>8065</td>\n",
       "    </tr>\n",
       "    <tr>\n",
       "      <th>1</th>\n",
       "      <td>HUIBGOT</td>\n",
       "      <td>Huibertgat oost</td>\n",
       "      <td>EDH</td>\n",
       "      <td>53.559167</td>\n",
       "      <td>6.661111</td>\n",
       "      <td>EEMSDOLLARD</td>\n",
       "      <td>ESTUARINE</td>\n",
       "      <td>27.9</td>\n",
       "      <td>6954</td>\n",
       "    </tr>\n",
       "    <tr>\n",
       "      <th>2</th>\n",
       "      <td>MARSDND</td>\n",
       "      <td>Marsdiep noord</td>\n",
       "      <td>WZM</td>\n",
       "      <td>52.982500</td>\n",
       "      <td>4.750000</td>\n",
       "      <td>WADDENZEE</td>\n",
       "      <td>ESTUARINE</td>\n",
       "      <td>15.9</td>\n",
       "      <td>6927</td>\n",
       "    </tr>\n",
       "    <tr>\n",
       "      <th>3</th>\n",
       "      <td>DANTZGT</td>\n",
       "      <td>Dantziggat</td>\n",
       "      <td>WZD</td>\n",
       "      <td>53.401111</td>\n",
       "      <td>5.726944</td>\n",
       "      <td>WADDENZEE</td>\n",
       "      <td>ESTUARINE</td>\n",
       "      <td>9.5</td>\n",
       "      <td>6460</td>\n",
       "    </tr>\n",
       "    <tr>\n",
       "      <th>4</th>\n",
       "      <td>VLISSGBISSVH</td>\n",
       "      <td>Vlissingen boei SSVH</td>\n",
       "      <td>WSV</td>\n",
       "      <td>51.411944</td>\n",
       "      <td>3.565556</td>\n",
       "      <td>WESTERSCHELDE</td>\n",
       "      <td>ESTUARINE</td>\n",
       "      <td>18.2</td>\n",
       "      <td>5926</td>\n",
       "    </tr>\n",
       "    <tr>\n",
       "      <th>5</th>\n",
       "      <td>NOORDWK2</td>\n",
       "      <td>Noordwijk 2 km uit de kust</td>\n",
       "      <td>NW2</td>\n",
       "      <td>52.260556</td>\n",
       "      <td>4.404722</td>\n",
       "      <td>NOORDZEE</td>\n",
       "      <td>COAST</td>\n",
       "      <td>13.0</td>\n",
       "      <td>5347</td>\n",
       "    </tr>\n",
       "    <tr>\n",
       "      <th>6</th>\n",
       "      <td>NOORDWK20</td>\n",
       "      <td>Noordwijk 20 km uit de kust</td>\n",
       "      <td>NW20</td>\n",
       "      <td>52.340833</td>\n",
       "      <td>4.173611</td>\n",
       "      <td>NOORDZEE</td>\n",
       "      <td>COAST</td>\n",
       "      <td>20.0</td>\n",
       "      <td>5345</td>\n",
       "    </tr>\n",
       "    <tr>\n",
       "      <th>7</th>\n",
       "      <td>HANSWGL</td>\n",
       "      <td>Hansweert geul</td>\n",
       "      <td>WSH</td>\n",
       "      <td>51.436111</td>\n",
       "      <td>4.014167</td>\n",
       "      <td>WESTERSCHELDE</td>\n",
       "      <td>ESTUARINE</td>\n",
       "      <td>17.3</td>\n",
       "      <td>4765</td>\n",
       "    </tr>\n",
       "    <tr>\n",
       "      <th>8</th>\n",
       "      <td>TERSLG10</td>\n",
       "      <td>Terschelling 10 km uit de kust</td>\n",
       "      <td>TS10</td>\n",
       "      <td>53.460278</td>\n",
       "      <td>5.099444</td>\n",
       "      <td>NOORDZEE</td>\n",
       "      <td>COAST</td>\n",
       "      <td>24.3</td>\n",
       "      <td>4682</td>\n",
       "    </tr>\n",
       "    <tr>\n",
       "      <th>9</th>\n",
       "      <td>NOORDWK70</td>\n",
       "      <td>Noordwijk 70 km uit de kust</td>\n",
       "      <td>NW70</td>\n",
       "      <td>52.585278</td>\n",
       "      <td>3.530000</td>\n",
       "      <td>NOORDZEE</td>\n",
       "      <td>OPENSEA</td>\n",
       "      <td>28.0</td>\n",
       "      <td>4091</td>\n",
       "    </tr>\n",
       "    <tr>\n",
       "      <th>10</th>\n",
       "      <td>LODSGT</td>\n",
       "      <td>Lodijkse Gat</td>\n",
       "      <td>OSL</td>\n",
       "      <td>51.515278</td>\n",
       "      <td>4.126944</td>\n",
       "      <td>OOSTERSCHELDE</td>\n",
       "      <td>ESTUARINE</td>\n",
       "      <td>4.8</td>\n",
       "      <td>3882</td>\n",
       "    </tr>\n",
       "    <tr>\n",
       "      <th>11</th>\n",
       "      <td>WALCRN20</td>\n",
       "      <td>Walcheren 20 km uit de kust</td>\n",
       "      <td>WA20</td>\n",
       "      <td>51.657778</td>\n",
       "      <td>3.219167</td>\n",
       "      <td>NOORDZEE</td>\n",
       "      <td>COAST</td>\n",
       "      <td>22.0</td>\n",
       "      <td>3347</td>\n",
       "    </tr>\n",
       "    <tr>\n",
       "      <th>12</th>\n",
       "      <td>TERSLG4</td>\n",
       "      <td>Terschelling 4 km uit de kust</td>\n",
       "      <td>TS4</td>\n",
       "      <td>53.414444</td>\n",
       "      <td>5.149167</td>\n",
       "      <td>NOORDZEE</td>\n",
       "      <td>COAST</td>\n",
       "      <td>13.1</td>\n",
       "      <td>3275</td>\n",
       "    </tr>\n",
       "    <tr>\n",
       "      <th>13</th>\n",
       "      <td>GROOTGND</td>\n",
       "      <td>Groote Gat noord</td>\n",
       "      <td>EDG</td>\n",
       "      <td>53.304167</td>\n",
       "      <td>7.156667</td>\n",
       "      <td>EEMSDOLLARD</td>\n",
       "      <td>ESTUARINE</td>\n",
       "      <td>5.9</td>\n",
       "      <td>3236</td>\n",
       "    </tr>\n",
       "    <tr>\n",
       "      <th>14</th>\n",
       "      <td>DREISR</td>\n",
       "      <td>Dreischor</td>\n",
       "      <td>GMD</td>\n",
       "      <td>51.714722</td>\n",
       "      <td>3.999444</td>\n",
       "      <td>GREVELINGENMEER</td>\n",
       "      <td>LAKE</td>\n",
       "      <td>19.3</td>\n",
       "      <td>3192</td>\n",
       "    </tr>\n",
       "    <tr>\n",
       "      <th>15</th>\n",
       "      <td>WALCRN2</td>\n",
       "      <td>Walcheren 2 km uit de kust</td>\n",
       "      <td>WA2</td>\n",
       "      <td>51.548056</td>\n",
       "      <td>3.409444</td>\n",
       "      <td>NOORDZEE</td>\n",
       "      <td>COAST</td>\n",
       "      <td>8.0</td>\n",
       "      <td>3035</td>\n",
       "    </tr>\n",
       "    <tr>\n",
       "      <th>16</th>\n",
       "      <td>TERSLG100</td>\n",
       "      <td>Terschelling 100 km uit de kust</td>\n",
       "      <td>TS100</td>\n",
       "      <td>54.148611</td>\n",
       "      <td>4.340556</td>\n",
       "      <td>NOORDZEE</td>\n",
       "      <td>OPENSEA</td>\n",
       "      <td>48.6</td>\n",
       "      <td>2969</td>\n",
       "    </tr>\n",
       "    <tr>\n",
       "      <th>17</th>\n",
       "      <td>WALCRN70</td>\n",
       "      <td>Walcheren 70 km uit de kust</td>\n",
       "      <td>WA70</td>\n",
       "      <td>51.956111</td>\n",
       "      <td>2.677778</td>\n",
       "      <td>NOORDZEE</td>\n",
       "      <td>OPENSEA</td>\n",
       "      <td>30.0</td>\n",
       "      <td>2914</td>\n",
       "    </tr>\n",
       "    <tr>\n",
       "      <th>18</th>\n",
       "      <td>GOERE6</td>\n",
       "      <td>Goeree 6 km uit de kust</td>\n",
       "      <td>GOE6</td>\n",
       "      <td>51.868889</td>\n",
       "      <td>3.872222</td>\n",
       "      <td>NOORDZEE</td>\n",
       "      <td>COAST</td>\n",
       "      <td>8.8</td>\n",
       "      <td>2897</td>\n",
       "    </tr>\n",
       "    <tr>\n",
       "      <th>19</th>\n",
       "      <td>TERSLG135</td>\n",
       "      <td>Terschelling 135 km uit de kust</td>\n",
       "      <td>TS135</td>\n",
       "      <td>54.414722</td>\n",
       "      <td>4.039722</td>\n",
       "      <td>NOORDZEE</td>\n",
       "      <td>OPENSEA</td>\n",
       "      <td>35.0</td>\n",
       "      <td>2857</td>\n",
       "    </tr>\n",
       "    <tr>\n",
       "      <th>20</th>\n",
       "      <td>ROTTMPT3</td>\n",
       "      <td>Rottumerplaat 3 km uit de kust</td>\n",
       "      <td>RP3</td>\n",
       "      <td>53.565278</td>\n",
       "      <td>6.562778</td>\n",
       "      <td>NOORDZEE</td>\n",
       "      <td>COAST</td>\n",
       "      <td>9.0</td>\n",
       "      <td>2577</td>\n",
       "    </tr>\n",
       "    <tr>\n",
       "      <th>21</th>\n",
       "      <td>TERSLG235</td>\n",
       "      <td>Terschelling 235 km uit de kust</td>\n",
       "      <td>TS235</td>\n",
       "      <td>55.171389</td>\n",
       "      <td>3.156111</td>\n",
       "      <td>NOORDZEE</td>\n",
       "      <td>OPENSEA</td>\n",
       "      <td>18.0</td>\n",
       "      <td>2487</td>\n",
       "    </tr>\n",
       "    <tr>\n",
       "      <th>22</th>\n",
       "      <td>TERSLG175</td>\n",
       "      <td>Terschelling 175 km uit de kust</td>\n",
       "      <td>TS175</td>\n",
       "      <td>54.718333</td>\n",
       "      <td>3.690278</td>\n",
       "      <td>NOORDZEE</td>\n",
       "      <td>OPENSEA</td>\n",
       "      <td>35.0</td>\n",
       "      <td>2302</td>\n",
       "    </tr>\n",
       "    <tr>\n",
       "      <th>23</th>\n",
       "      <td>ROTTMPT50</td>\n",
       "      <td>Rottumerplaat 50 km uit de kust</td>\n",
       "      <td>RP50</td>\n",
       "      <td>53.953056</td>\n",
       "      <td>6.308611</td>\n",
       "      <td>NOORDZEE</td>\n",
       "      <td>OPENSEA</td>\n",
       "      <td>20.0</td>\n",
       "      <td>2017</td>\n",
       "    </tr>\n",
       "    <tr>\n",
       "      <th>24</th>\n",
       "      <td>SOELKKPDOT</td>\n",
       "      <td>Soelekerkerpolder oost</td>\n",
       "      <td>VMS</td>\n",
       "      <td>51.542222</td>\n",
       "      <td>3.730833</td>\n",
       "      <td>VEERSEMEER</td>\n",
       "      <td>LAKE</td>\n",
       "      <td>25.0</td>\n",
       "      <td>1952</td>\n",
       "    </tr>\n",
       "    <tr>\n",
       "      <th>25</th>\n",
       "      <td>ROTTMPT70</td>\n",
       "      <td>Rottumerplaat 70 km uit de kust</td>\n",
       "      <td>RP70</td>\n",
       "      <td>54.117222</td>\n",
       "      <td>6.212778</td>\n",
       "      <td>NOORDZEE</td>\n",
       "      <td>OPENSEA</td>\n",
       "      <td>24.0</td>\n",
       "      <td>1892</td>\n",
       "    </tr>\n",
       "    <tr>\n",
       "      <th>26</th>\n",
       "      <td>SCHAARVODDL</td>\n",
       "      <td>Schaar van Ouden Doel</td>\n",
       "      <td>WSO</td>\n",
       "      <td>51.350278</td>\n",
       "      <td>4.250556</td>\n",
       "      <td>WESTERSCHELDE</td>\n",
       "      <td>ESTUARINE</td>\n",
       "      <td>14.9</td>\n",
       "      <td>1889</td>\n",
       "    </tr>\n",
       "  </tbody>\n",
       "</table>\n",
       "</div>"
      ],
      "text/plain": [
       "      DONAR CODE                DONAR-DESCRIPTION    LOC        Lat       Lon  \\\n",
       "0      NOORDWK10      Noordwijk 10 km uit de kust   NW10  52.301389  4.301111   \n",
       "1        HUIBGOT                  Huibertgat oost    EDH  53.559167  6.661111   \n",
       "2        MARSDND                   Marsdiep noord    WZM  52.982500  4.750000   \n",
       "3        DANTZGT                       Dantziggat    WZD  53.401111  5.726944   \n",
       "4   VLISSGBISSVH             Vlissingen boei SSVH    WSV  51.411944  3.565556   \n",
       "5       NOORDWK2       Noordwijk 2 km uit de kust    NW2  52.260556  4.404722   \n",
       "6      NOORDWK20      Noordwijk 20 km uit de kust   NW20  52.340833  4.173611   \n",
       "7        HANSWGL                   Hansweert geul    WSH  51.436111  4.014167   \n",
       "8       TERSLG10   Terschelling 10 km uit de kust   TS10  53.460278  5.099444   \n",
       "9      NOORDWK70      Noordwijk 70 km uit de kust   NW70  52.585278  3.530000   \n",
       "10        LODSGT                     Lodijkse Gat    OSL  51.515278  4.126944   \n",
       "11      WALCRN20      Walcheren 20 km uit de kust   WA20  51.657778  3.219167   \n",
       "12       TERSLG4    Terschelling 4 km uit de kust    TS4  53.414444  5.149167   \n",
       "13      GROOTGND                 Groote Gat noord    EDG  53.304167  7.156667   \n",
       "14        DREISR                        Dreischor    GMD  51.714722  3.999444   \n",
       "15       WALCRN2       Walcheren 2 km uit de kust    WA2  51.548056  3.409444   \n",
       "16     TERSLG100  Terschelling 100 km uit de kust  TS100  54.148611  4.340556   \n",
       "17      WALCRN70      Walcheren 70 km uit de kust   WA70  51.956111  2.677778   \n",
       "18        GOERE6          Goeree 6 km uit de kust   GOE6  51.868889  3.872222   \n",
       "19     TERSLG135  Terschelling 135 km uit de kust  TS135  54.414722  4.039722   \n",
       "20      ROTTMPT3   Rottumerplaat 3 km uit de kust    RP3  53.565278  6.562778   \n",
       "21     TERSLG235  Terschelling 235 km uit de kust  TS235  55.171389  3.156111   \n",
       "22     TERSLG175  Terschelling 175 km uit de kust  TS175  54.718333  3.690278   \n",
       "23     ROTTMPT50  Rottumerplaat 50 km uit de kust   RP50  53.953056  6.308611   \n",
       "24    SOELKKPDOT           Soelekerkerpolder oost    VMS  51.542222  3.730833   \n",
       "25     ROTTMPT70  Rottumerplaat 70 km uit de kust   RP70  54.117222  6.212778   \n",
       "26   SCHAARVODDL            Schaar van Ouden Doel    WSO  51.350278  4.250556   \n",
       "\n",
       "          WATERBODY       TYPE  h (m)  count  \n",
       "0          NOORDZEE      COAST   18.2   8065  \n",
       "1       EEMSDOLLARD  ESTUARINE   27.9   6954  \n",
       "2         WADDENZEE  ESTUARINE   15.9   6927  \n",
       "3         WADDENZEE  ESTUARINE    9.5   6460  \n",
       "4     WESTERSCHELDE  ESTUARINE   18.2   5926  \n",
       "5          NOORDZEE      COAST   13.0   5347  \n",
       "6          NOORDZEE      COAST   20.0   5345  \n",
       "7     WESTERSCHELDE  ESTUARINE   17.3   4765  \n",
       "8          NOORDZEE      COAST   24.3   4682  \n",
       "9          NOORDZEE    OPENSEA   28.0   4091  \n",
       "10    OOSTERSCHELDE  ESTUARINE    4.8   3882  \n",
       "11         NOORDZEE      COAST   22.0   3347  \n",
       "12         NOORDZEE      COAST   13.1   3275  \n",
       "13      EEMSDOLLARD  ESTUARINE    5.9   3236  \n",
       "14  GREVELINGENMEER       LAKE   19.3   3192  \n",
       "15         NOORDZEE      COAST    8.0   3035  \n",
       "16         NOORDZEE    OPENSEA   48.6   2969  \n",
       "17         NOORDZEE    OPENSEA   30.0   2914  \n",
       "18         NOORDZEE      COAST    8.8   2897  \n",
       "19         NOORDZEE    OPENSEA   35.0   2857  \n",
       "20         NOORDZEE      COAST    9.0   2577  \n",
       "21         NOORDZEE    OPENSEA   18.0   2487  \n",
       "22         NOORDZEE    OPENSEA   35.0   2302  \n",
       "23         NOORDZEE    OPENSEA   20.0   2017  \n",
       "24       VEERSEMEER       LAKE   25.0   1952  \n",
       "25         NOORDZEE    OPENSEA   24.0   1892  \n",
       "26    WESTERSCHELDE  ESTUARINE   14.9   1889  "
      ]
     },
     "metadata": {},
     "output_type": "display_data"
    }
   ],
   "source": [
    "df_merged = df.merge(grouped_locations[[\"LOC\", \"count\"]], on=\"LOC\", how='right')\n",
    "\n",
    "display(df_merged)"
   ]
  },
  {
   "cell_type": "code",
   "execution_count": 20,
   "metadata": {},
   "outputs": [
    {
     "data": {
      "application/vnd.plotly.v1+json": {
       "config": {
        "plotlyServerURL": "https://plot.ly"
       },
       "data": [
        {
         "hovertemplate": "<b>%{hovertext}</b><br><br>TYPE=COAST<br>DONAR CODE=%{text}<br>Lat=%{lat}<br>Lon=%{lon}<extra></extra>",
         "hovertext": [
          "Noordwijk 10 km uit de kust",
          "Noordwijk 2 km uit de kust",
          "Noordwijk 20 km uit de kust",
          "Terschelling 10 km uit de kust",
          "Walcheren 20 km uit de kust",
          "Terschelling 4 km uit de kust",
          "Walcheren 2 km uit de kust",
          "Goeree 6 km uit de kust",
          "Rottumerplaat 3 km uit de kust"
         ],
         "lat": [
          52.30138888888889,
          52.260555555555555,
          52.340833333333336,
          53.46027777777778,
          51.657777777777774,
          53.41444444444444,
          51.54805555555556,
          51.86888888888889,
          53.56527777777777
         ],
         "legendgroup": "COAST",
         "lon": [
          4.301111111111111,
          4.404722222222222,
          4.173611111111112,
          5.099444444444444,
          3.2191666666666667,
          5.149166666666667,
          3.4094444444444445,
          3.8722222222222222,
          6.562777777777778
         ],
         "marker": {
          "color": "#357ded",
          "opacity": 0.9
         },
         "mode": "markers+text",
         "name": "COAST",
         "showlegend": true,
         "subplot": "mapbox",
         "text": [
          "NOORDWK10",
          "NOORDWK2",
          "NOORDWK20",
          "TERSLG10",
          "WALCRN20",
          "TERSLG4",
          "WALCRN2",
          "GOERE6",
          "ROTTMPT3"
         ],
         "textfont": {
          "color": "white",
          "size": 16
         },
         "type": "scattermapbox"
        },
        {
         "hovertemplate": "<b>%{hovertext}</b><br><br>TYPE=ESTUARINE<br>DONAR CODE=%{text}<br>Lat=%{lat}<br>Lon=%{lon}<extra></extra>",
         "hovertext": [
          "Huibertgat oost",
          "Marsdiep noord",
          "Dantziggat",
          "Vlissingen boei SSVH",
          "Hansweert geul",
          "Lodijkse Gat",
          "Groote Gat noord",
          "Schaar van Ouden Doel"
         ],
         "lat": [
          53.55916666666666,
          52.9825,
          53.401111111111106,
          51.411944444444444,
          51.43611111111111,
          51.515277777777776,
          53.30416666666667,
          51.35027777777778
         ],
         "legendgroup": "ESTUARINE",
         "lon": [
          6.661111111111111,
          4.75,
          5.726944444444444,
          3.5655555555555556,
          4.014166666666667,
          4.126944444444444,
          7.156666666666667,
          4.250555555555556
         ],
         "marker": {
          "color": "#32e875",
          "opacity": 0.9
         },
         "mode": "markers+text",
         "name": "ESTUARINE",
         "showlegend": true,
         "subplot": "mapbox",
         "text": [
          "HUIBGOT",
          "MARSDND",
          "DANTZGT",
          "VLISSGBISSVH",
          "HANSWGL",
          "LODSGT",
          "GROOTGND",
          "SCHAARVODDL"
         ],
         "textfont": {
          "color": "white",
          "size": 16
         },
         "type": "scattermapbox"
        },
        {
         "hovertemplate": "<b>%{hovertext}</b><br><br>TYPE=OPENSEA<br>DONAR CODE=%{text}<br>Lat=%{lat}<br>Lon=%{lon}<extra></extra>",
         "hovertext": [
          "Noordwijk 70 km uit de kust",
          "Terschelling 100 km uit de kust",
          "Walcheren 70 km uit de kust",
          "Terschelling 135 km uit de kust",
          "Terschelling 235 km uit de kust",
          "Terschelling 175 km uit de kust",
          "Rottumerplaat 50 km uit de kust",
          "Rottumerplaat 70 km uit de kust"
         ],
         "lat": [
          52.58527777777778,
          54.14861111111111,
          51.95611111111111,
          54.414722222222224,
          55.171388888888885,
          54.718333333333334,
          53.95305555555556,
          54.117222222222225
         ],
         "legendgroup": "OPENSEA",
         "lon": [
          3.53,
          4.3405555555555555,
          2.6777777777777776,
          4.039722222222222,
          3.156111111111111,
          3.690277777777778,
          6.3086111111111105,
          6.212777777777778
         ],
         "marker": {
          "color": "#1F2BB3",
          "opacity": 0.9
         },
         "mode": "markers+text",
         "name": "OPENSEA",
         "showlegend": true,
         "subplot": "mapbox",
         "text": [
          "NOORDWK70",
          "TERSLG100",
          "WALCRN70",
          "TERSLG135",
          "TERSLG235",
          "TERSLG175",
          "ROTTMPT50",
          "ROTTMPT70"
         ],
         "textfont": {
          "color": "white",
          "size": 16
         },
         "type": "scattermapbox"
        },
        {
         "hovertemplate": "<b>%{hovertext}</b><br><br>TYPE=LAKE<br>DONAR CODE=%{text}<br>Lat=%{lat}<br>Lon=%{lon}<extra></extra>",
         "hovertext": [
          "Dreischor",
          "Soelekerkerpolder oost"
         ],
         "lat": [
          51.71472222222223,
          51.54222222222222
         ],
         "legendgroup": "LAKE",
         "lon": [
          3.9994444444444444,
          3.7308333333333334
         ],
         "marker": {
          "color": "#56eef4",
          "opacity": 0.9
         },
         "mode": "markers+text",
         "name": "LAKE",
         "showlegend": true,
         "subplot": "mapbox",
         "text": [
          "DREISR",
          "SOELKKPDOT"
         ],
         "textfont": {
          "color": "white",
          "size": 16
         },
         "type": "scattermapbox"
        }
       ],
       "layout": {
        "annotations": [
         {
          "align": "left",
          "font": {
           "size": 17
          },
          "showarrow": false,
          "text": "Blob size indicates number of measurements",
          "x": 0.5,
          "xref": "paper",
          "y": -0.07,
          "yref": "paper"
         }
        ],
        "autosize": false,
        "height": 800,
        "legend": {
         "title": {
          "text": "TYPE"
         },
         "tracegroupgap": 0
        },
        "mapbox": {
         "accesstoken": "pk.eyJ1IjoiYXJkamFubyIsImEiOiJjbGRoZjZyeXQxNnZhM25vNmM5eW85MWprIn0.nEkhCKPA2i1hhOGf7dsO7Q",
         "center": {
          "lat": 52.803693415637866,
          "lon": 4.52332304526749
         },
         "domain": {
          "x": [
           0,
           1
          ],
          "y": [
           0,
           1
          ]
         },
         "style": "dark",
         "zoom": 6
        },
        "template": {
         "data": {
          "bar": [
           {
            "error_x": {
             "color": "#2a3f5f"
            },
            "error_y": {
             "color": "#2a3f5f"
            },
            "marker": {
             "line": {
              "color": "#E5ECF6",
              "width": 0.5
             },
             "pattern": {
              "fillmode": "overlay",
              "size": 10,
              "solidity": 0.2
             }
            },
            "type": "bar"
           }
          ],
          "barpolar": [
           {
            "marker": {
             "line": {
              "color": "#E5ECF6",
              "width": 0.5
             },
             "pattern": {
              "fillmode": "overlay",
              "size": 10,
              "solidity": 0.2
             }
            },
            "type": "barpolar"
           }
          ],
          "carpet": [
           {
            "aaxis": {
             "endlinecolor": "#2a3f5f",
             "gridcolor": "white",
             "linecolor": "white",
             "minorgridcolor": "white",
             "startlinecolor": "#2a3f5f"
            },
            "baxis": {
             "endlinecolor": "#2a3f5f",
             "gridcolor": "white",
             "linecolor": "white",
             "minorgridcolor": "white",
             "startlinecolor": "#2a3f5f"
            },
            "type": "carpet"
           }
          ],
          "choropleth": [
           {
            "colorbar": {
             "outlinewidth": 0,
             "ticks": ""
            },
            "type": "choropleth"
           }
          ],
          "contour": [
           {
            "colorbar": {
             "outlinewidth": 0,
             "ticks": ""
            },
            "colorscale": [
             [
              0,
              "#0d0887"
             ],
             [
              0.1111111111111111,
              "#46039f"
             ],
             [
              0.2222222222222222,
              "#7201a8"
             ],
             [
              0.3333333333333333,
              "#9c179e"
             ],
             [
              0.4444444444444444,
              "#bd3786"
             ],
             [
              0.5555555555555556,
              "#d8576b"
             ],
             [
              0.6666666666666666,
              "#ed7953"
             ],
             [
              0.7777777777777778,
              "#fb9f3a"
             ],
             [
              0.8888888888888888,
              "#fdca26"
             ],
             [
              1,
              "#f0f921"
             ]
            ],
            "type": "contour"
           }
          ],
          "contourcarpet": [
           {
            "colorbar": {
             "outlinewidth": 0,
             "ticks": ""
            },
            "type": "contourcarpet"
           }
          ],
          "heatmap": [
           {
            "colorbar": {
             "outlinewidth": 0,
             "ticks": ""
            },
            "colorscale": [
             [
              0,
              "#0d0887"
             ],
             [
              0.1111111111111111,
              "#46039f"
             ],
             [
              0.2222222222222222,
              "#7201a8"
             ],
             [
              0.3333333333333333,
              "#9c179e"
             ],
             [
              0.4444444444444444,
              "#bd3786"
             ],
             [
              0.5555555555555556,
              "#d8576b"
             ],
             [
              0.6666666666666666,
              "#ed7953"
             ],
             [
              0.7777777777777778,
              "#fb9f3a"
             ],
             [
              0.8888888888888888,
              "#fdca26"
             ],
             [
              1,
              "#f0f921"
             ]
            ],
            "type": "heatmap"
           }
          ],
          "heatmapgl": [
           {
            "colorbar": {
             "outlinewidth": 0,
             "ticks": ""
            },
            "colorscale": [
             [
              0,
              "#0d0887"
             ],
             [
              0.1111111111111111,
              "#46039f"
             ],
             [
              0.2222222222222222,
              "#7201a8"
             ],
             [
              0.3333333333333333,
              "#9c179e"
             ],
             [
              0.4444444444444444,
              "#bd3786"
             ],
             [
              0.5555555555555556,
              "#d8576b"
             ],
             [
              0.6666666666666666,
              "#ed7953"
             ],
             [
              0.7777777777777778,
              "#fb9f3a"
             ],
             [
              0.8888888888888888,
              "#fdca26"
             ],
             [
              1,
              "#f0f921"
             ]
            ],
            "type": "heatmapgl"
           }
          ],
          "histogram": [
           {
            "marker": {
             "pattern": {
              "fillmode": "overlay",
              "size": 10,
              "solidity": 0.2
             }
            },
            "type": "histogram"
           }
          ],
          "histogram2d": [
           {
            "colorbar": {
             "outlinewidth": 0,
             "ticks": ""
            },
            "colorscale": [
             [
              0,
              "#0d0887"
             ],
             [
              0.1111111111111111,
              "#46039f"
             ],
             [
              0.2222222222222222,
              "#7201a8"
             ],
             [
              0.3333333333333333,
              "#9c179e"
             ],
             [
              0.4444444444444444,
              "#bd3786"
             ],
             [
              0.5555555555555556,
              "#d8576b"
             ],
             [
              0.6666666666666666,
              "#ed7953"
             ],
             [
              0.7777777777777778,
              "#fb9f3a"
             ],
             [
              0.8888888888888888,
              "#fdca26"
             ],
             [
              1,
              "#f0f921"
             ]
            ],
            "type": "histogram2d"
           }
          ],
          "histogram2dcontour": [
           {
            "colorbar": {
             "outlinewidth": 0,
             "ticks": ""
            },
            "colorscale": [
             [
              0,
              "#0d0887"
             ],
             [
              0.1111111111111111,
              "#46039f"
             ],
             [
              0.2222222222222222,
              "#7201a8"
             ],
             [
              0.3333333333333333,
              "#9c179e"
             ],
             [
              0.4444444444444444,
              "#bd3786"
             ],
             [
              0.5555555555555556,
              "#d8576b"
             ],
             [
              0.6666666666666666,
              "#ed7953"
             ],
             [
              0.7777777777777778,
              "#fb9f3a"
             ],
             [
              0.8888888888888888,
              "#fdca26"
             ],
             [
              1,
              "#f0f921"
             ]
            ],
            "type": "histogram2dcontour"
           }
          ],
          "mesh3d": [
           {
            "colorbar": {
             "outlinewidth": 0,
             "ticks": ""
            },
            "type": "mesh3d"
           }
          ],
          "parcoords": [
           {
            "line": {
             "colorbar": {
              "outlinewidth": 0,
              "ticks": ""
             }
            },
            "type": "parcoords"
           }
          ],
          "pie": [
           {
            "automargin": true,
            "type": "pie"
           }
          ],
          "scatter": [
           {
            "fillpattern": {
             "fillmode": "overlay",
             "size": 10,
             "solidity": 0.2
            },
            "type": "scatter"
           }
          ],
          "scatter3d": [
           {
            "line": {
             "colorbar": {
              "outlinewidth": 0,
              "ticks": ""
             }
            },
            "marker": {
             "colorbar": {
              "outlinewidth": 0,
              "ticks": ""
             }
            },
            "type": "scatter3d"
           }
          ],
          "scattercarpet": [
           {
            "marker": {
             "colorbar": {
              "outlinewidth": 0,
              "ticks": ""
             }
            },
            "type": "scattercarpet"
           }
          ],
          "scattergeo": [
           {
            "marker": {
             "colorbar": {
              "outlinewidth": 0,
              "ticks": ""
             }
            },
            "type": "scattergeo"
           }
          ],
          "scattergl": [
           {
            "marker": {
             "colorbar": {
              "outlinewidth": 0,
              "ticks": ""
             }
            },
            "type": "scattergl"
           }
          ],
          "scattermapbox": [
           {
            "marker": {
             "colorbar": {
              "outlinewidth": 0,
              "ticks": ""
             }
            },
            "type": "scattermapbox"
           }
          ],
          "scatterpolar": [
           {
            "marker": {
             "colorbar": {
              "outlinewidth": 0,
              "ticks": ""
             }
            },
            "type": "scatterpolar"
           }
          ],
          "scatterpolargl": [
           {
            "marker": {
             "colorbar": {
              "outlinewidth": 0,
              "ticks": ""
             }
            },
            "type": "scatterpolargl"
           }
          ],
          "scatterternary": [
           {
            "marker": {
             "colorbar": {
              "outlinewidth": 0,
              "ticks": ""
             }
            },
            "type": "scatterternary"
           }
          ],
          "surface": [
           {
            "colorbar": {
             "outlinewidth": 0,
             "ticks": ""
            },
            "colorscale": [
             [
              0,
              "#0d0887"
             ],
             [
              0.1111111111111111,
              "#46039f"
             ],
             [
              0.2222222222222222,
              "#7201a8"
             ],
             [
              0.3333333333333333,
              "#9c179e"
             ],
             [
              0.4444444444444444,
              "#bd3786"
             ],
             [
              0.5555555555555556,
              "#d8576b"
             ],
             [
              0.6666666666666666,
              "#ed7953"
             ],
             [
              0.7777777777777778,
              "#fb9f3a"
             ],
             [
              0.8888888888888888,
              "#fdca26"
             ],
             [
              1,
              "#f0f921"
             ]
            ],
            "type": "surface"
           }
          ],
          "table": [
           {
            "cells": {
             "fill": {
              "color": "#EBF0F8"
             },
             "line": {
              "color": "white"
             }
            },
            "header": {
             "fill": {
              "color": "#C8D4E3"
             },
             "line": {
              "color": "white"
             }
            },
            "type": "table"
           }
          ]
         },
         "layout": {
          "annotationdefaults": {
           "arrowcolor": "#2a3f5f",
           "arrowhead": 0,
           "arrowwidth": 1
          },
          "autotypenumbers": "strict",
          "coloraxis": {
           "colorbar": {
            "outlinewidth": 0,
            "ticks": ""
           }
          },
          "colorscale": {
           "diverging": [
            [
             0,
             "#8e0152"
            ],
            [
             0.1,
             "#c51b7d"
            ],
            [
             0.2,
             "#de77ae"
            ],
            [
             0.3,
             "#f1b6da"
            ],
            [
             0.4,
             "#fde0ef"
            ],
            [
             0.5,
             "#f7f7f7"
            ],
            [
             0.6,
             "#e6f5d0"
            ],
            [
             0.7,
             "#b8e186"
            ],
            [
             0.8,
             "#7fbc41"
            ],
            [
             0.9,
             "#4d9221"
            ],
            [
             1,
             "#276419"
            ]
           ],
           "sequential": [
            [
             0,
             "#0d0887"
            ],
            [
             0.1111111111111111,
             "#46039f"
            ],
            [
             0.2222222222222222,
             "#7201a8"
            ],
            [
             0.3333333333333333,
             "#9c179e"
            ],
            [
             0.4444444444444444,
             "#bd3786"
            ],
            [
             0.5555555555555556,
             "#d8576b"
            ],
            [
             0.6666666666666666,
             "#ed7953"
            ],
            [
             0.7777777777777778,
             "#fb9f3a"
            ],
            [
             0.8888888888888888,
             "#fdca26"
            ],
            [
             1,
             "#f0f921"
            ]
           ],
           "sequentialminus": [
            [
             0,
             "#0d0887"
            ],
            [
             0.1111111111111111,
             "#46039f"
            ],
            [
             0.2222222222222222,
             "#7201a8"
            ],
            [
             0.3333333333333333,
             "#9c179e"
            ],
            [
             0.4444444444444444,
             "#bd3786"
            ],
            [
             0.5555555555555556,
             "#d8576b"
            ],
            [
             0.6666666666666666,
             "#ed7953"
            ],
            [
             0.7777777777777778,
             "#fb9f3a"
            ],
            [
             0.8888888888888888,
             "#fdca26"
            ],
            [
             1,
             "#f0f921"
            ]
           ]
          },
          "colorway": [
           "#636efa",
           "#EF553B",
           "#00cc96",
           "#ab63fa",
           "#FFA15A",
           "#19d3f3",
           "#FF6692",
           "#B6E880",
           "#FF97FF",
           "#FECB52"
          ],
          "font": {
           "color": "#2a3f5f"
          },
          "geo": {
           "bgcolor": "white",
           "lakecolor": "white",
           "landcolor": "#E5ECF6",
           "showlakes": true,
           "showland": true,
           "subunitcolor": "white"
          },
          "hoverlabel": {
           "align": "left"
          },
          "hovermode": "closest",
          "mapbox": {
           "style": "light"
          },
          "paper_bgcolor": "white",
          "plot_bgcolor": "#E5ECF6",
          "polar": {
           "angularaxis": {
            "gridcolor": "white",
            "linecolor": "white",
            "ticks": ""
           },
           "bgcolor": "#E5ECF6",
           "radialaxis": {
            "gridcolor": "white",
            "linecolor": "white",
            "ticks": ""
           }
          },
          "scene": {
           "xaxis": {
            "backgroundcolor": "#E5ECF6",
            "gridcolor": "white",
            "gridwidth": 2,
            "linecolor": "white",
            "showbackground": true,
            "ticks": "",
            "zerolinecolor": "white"
           },
           "yaxis": {
            "backgroundcolor": "#E5ECF6",
            "gridcolor": "white",
            "gridwidth": 2,
            "linecolor": "white",
            "showbackground": true,
            "ticks": "",
            "zerolinecolor": "white"
           },
           "zaxis": {
            "backgroundcolor": "#E5ECF6",
            "gridcolor": "white",
            "gridwidth": 2,
            "linecolor": "white",
            "showbackground": true,
            "ticks": "",
            "zerolinecolor": "white"
           }
          },
          "shapedefaults": {
           "line": {
            "color": "#2a3f5f"
           }
          },
          "ternary": {
           "aaxis": {
            "gridcolor": "white",
            "linecolor": "white",
            "ticks": ""
           },
           "baxis": {
            "gridcolor": "white",
            "linecolor": "white",
            "ticks": ""
           },
           "bgcolor": "#E5ECF6",
           "caxis": {
            "gridcolor": "white",
            "linecolor": "white",
            "ticks": ""
           }
          },
          "title": {
           "x": 0.05
          },
          "xaxis": {
           "automargin": true,
           "gridcolor": "white",
           "linecolor": "white",
           "ticks": "",
           "title": {
            "standoff": 15
           },
           "zerolinecolor": "white",
           "zerolinewidth": 2
          },
          "yaxis": {
           "automargin": true,
           "gridcolor": "white",
           "linecolor": "white",
           "ticks": "",
           "title": {
            "standoff": 15
           },
           "zerolinecolor": "white",
           "zerolinewidth": 2
          }
         }
        },
        "title": {
         "font": {
          "size": 20
         },
         "text": "Test sites by type of water"
        },
        "width": 1000
       }
      }
     },
     "metadata": {},
     "output_type": "display_data"
    }
   ],
   "source": [
    "px.set_mapbox_access_token(\"pk.eyJ1IjoiYXJkamFubyIsImEiOiJjbGRoZjZyeXQxNnZhM25vNmM5eW85MWprIn0.nEkhCKPA2i1hhOGf7dsO7Q\")\n",
    "\n",
    "color_dict = {\"COAST\": \"#357ded\", \"ESTUARINE\": \"#32e875\", \"OPENSEA\": \"#1F2BB3\", \"LAKE\": \"#56eef4\"}\n",
    "\n",
    "fig = px.scatter_mapbox(df_merged, lat='Lat', lon='Lon', color='TYPE',\n",
    "                    hover_name='DONAR-DESCRIPTION',\n",
    "                    #  mapbox_style='open-street-map',\n",
    "                    color_discrete_map=color_dict,\n",
    "                    mapbox_style='dark',\n",
    "                    text=\"DONAR CODE\",\n",
    "                    # size=\"count\",\n",
    "                    # hover_data={'Hoofdcategorie', 'HuidigeStatus', 'MeldingAfgehandeld', 'Straat', 'Datum', 'Id'},\n",
    "                    title=f'Test sites by type of water',\n",
    "                    opacity=.9,\n",
    "                    # animation_frame='season',\n",
    "                    zoom=6)\n",
    "\n",
    "\n",
    "fig.update_layout(\n",
    "    autosize=False,\n",
    "    width=1000,  # Adjust as needed\n",
    "    height=800,  # Adjust as needed\n",
    "    title={\n",
    "        \"font_size\": 20,\n",
    "    },\n",
    "    annotations=[\n",
    "        dict(\n",
    "        text='Blob size indicates number of measurements',  # Customize this text as needed\n",
    "        align='left',\n",
    "        showarrow=False,\n",
    "        xref='paper',\n",
    "        yref='paper',\n",
    "        x=.5,\n",
    "        y=-.07,\n",
    "        # bordercolor='black',\n",
    "        # borderwidth=.6,\n",
    "        font=dict(\n",
    "                size=17  # Adjust the subtitle font size here\n",
    "            )\n",
    "        )\n",
    "    ],\n",
    "    # legend=dict(\n",
    "    #     title=dict(\n",
    "    #         text='Types of Water',  # Customize this title as needed\n",
    "    #         font_size=16  # Adjust the legend title font size here\n",
    "    #     ),\n",
    "    #     font=dict(\n",
    "    #         size=14  # Adjust the legend text font size here\n",
    "    #     )\n",
    "    # )\n",
    "\n",
    "\n",
    ")\n",
    "\n",
    "\n",
    "fig.update_traces(textfont=dict(size=16, color=\"white\"))\n",
    "\n",
    "fig.show()"
   ]
  },
  {
   "cell_type": "code",
   "execution_count": 21,
   "metadata": {},
   "outputs": [
    {
     "data": {
      "text/plain": [
       "array(['GROOTGND', 'HUIBGOT', 'DREISR', 'NOORDWK10', 'TERSLG4',\n",
       "       'NOORDWK20', 'TERSLG10', 'NOORDWK2', 'NOORDWK70', 'WALCRN20',\n",
       "       'WALCRN2', 'GOERE6', 'ROTTMPT3', 'WALCRN70', 'TERSLG100',\n",
       "       'TERSLG135', 'TERSLG175', 'TERSLG235', 'ROTTMPT70', 'ROTTMPT50',\n",
       "       'LODSGT', 'SOELKKPDOT', 'MARSDND', 'DANTZGT', 'SCHAARVODDL',\n",
       "       'VLISSGBISSVH', 'HANSWGL'], dtype=object)"
      ]
     },
     "metadata": {},
     "output_type": "display_data"
    },
    {
     "data": {
      "text/plain": [
       "array(['GROOTGND', 'HUIBGOT', 'DREISR', 'GOERE6', 'NOORDWK10', 'NOORDWK2',\n",
       "       'NOORDWK20', 'NOORDWK70', 'LODSGT', 'ROTTMPT3', 'ROTTMPT50',\n",
       "       'ROTTMPT70', 'TERSLG10', 'TERSLG100', 'TERSLG135', 'TERSLG175',\n",
       "       'TERSLG235', 'TERSLG4', 'SOELKKPDOT', 'WALCRN2', 'WALCRN20',\n",
       "       'WALCRN70', 'HANSWGL', 'SCHAARVODDL', 'VLISSGBISSVH', 'DANTZGT',\n",
       "       'MARSDND'], dtype=object)"
      ]
     },
     "metadata": {},
     "output_type": "display_data"
    }
   ],
   "source": [
    "display(biotic_df[\"LOC_CODE\"].unique(), df[\"DONAR CODE\"].unique())"
   ]
  },
  {
   "cell_type": "code",
   "execution_count": 24,
   "metadata": {},
   "outputs": [
    {
     "data": {
      "text/html": [
       "<div>\n",
       "<style scoped>\n",
       "    .dataframe tbody tr th:only-of-type {\n",
       "        vertical-align: middle;\n",
       "    }\n",
       "\n",
       "    .dataframe tbody tr th {\n",
       "        vertical-align: top;\n",
       "    }\n",
       "\n",
       "    .dataframe thead th {\n",
       "        text-align: right;\n",
       "    }\n",
       "</style>\n",
       "<table border=\"1\" class=\"dataframe\">\n",
       "  <thead>\n",
       "    <tr style=\"text-align: right;\">\n",
       "      <th></th>\n",
       "      <th>DONAR CODE</th>\n",
       "      <th>DONAR-DESCRIPTION</th>\n",
       "      <th>LOC</th>\n",
       "      <th>Lat</th>\n",
       "      <th>Lon</th>\n",
       "      <th>WATERBODY</th>\n",
       "      <th>TYPE</th>\n",
       "      <th>h (m)</th>\n",
       "      <th>count</th>\n",
       "      <th>cluster</th>\n",
       "    </tr>\n",
       "  </thead>\n",
       "  <tbody>\n",
       "    <tr>\n",
       "      <th>0</th>\n",
       "      <td>NOORDWK10</td>\n",
       "      <td>Noordwijk 10 km uit de kust</td>\n",
       "      <td>NW10</td>\n",
       "      <td>52.301389</td>\n",
       "      <td>4.301111</td>\n",
       "      <td>NOORDZEE</td>\n",
       "      <td>COAST</td>\n",
       "      <td>18.2</td>\n",
       "      <td>8065</td>\n",
       "      <td>1</td>\n",
       "    </tr>\n",
       "    <tr>\n",
       "      <th>1</th>\n",
       "      <td>HUIBGOT</td>\n",
       "      <td>Huibertgat oost</td>\n",
       "      <td>EDH</td>\n",
       "      <td>53.559167</td>\n",
       "      <td>6.661111</td>\n",
       "      <td>EEMSDOLLARD</td>\n",
       "      <td>ESTUARINE</td>\n",
       "      <td>27.9</td>\n",
       "      <td>6954</td>\n",
       "      <td>2</td>\n",
       "    </tr>\n",
       "    <tr>\n",
       "      <th>2</th>\n",
       "      <td>MARSDND</td>\n",
       "      <td>Marsdiep noord</td>\n",
       "      <td>WZM</td>\n",
       "      <td>52.982500</td>\n",
       "      <td>4.750000</td>\n",
       "      <td>WADDENZEE</td>\n",
       "      <td>ESTUARINE</td>\n",
       "      <td>15.9</td>\n",
       "      <td>6927</td>\n",
       "      <td>2</td>\n",
       "    </tr>\n",
       "    <tr>\n",
       "      <th>3</th>\n",
       "      <td>DANTZGT</td>\n",
       "      <td>Dantziggat</td>\n",
       "      <td>WZD</td>\n",
       "      <td>53.401111</td>\n",
       "      <td>5.726944</td>\n",
       "      <td>WADDENZEE</td>\n",
       "      <td>ESTUARINE</td>\n",
       "      <td>9.5</td>\n",
       "      <td>6460</td>\n",
       "      <td>2</td>\n",
       "    </tr>\n",
       "    <tr>\n",
       "      <th>4</th>\n",
       "      <td>VLISSGBISSVH</td>\n",
       "      <td>Vlissingen boei SSVH</td>\n",
       "      <td>WSV</td>\n",
       "      <td>51.411944</td>\n",
       "      <td>3.565556</td>\n",
       "      <td>WESTERSCHELDE</td>\n",
       "      <td>ESTUARINE</td>\n",
       "      <td>18.2</td>\n",
       "      <td>5926</td>\n",
       "      <td>2</td>\n",
       "    </tr>\n",
       "    <tr>\n",
       "      <th>5</th>\n",
       "      <td>NOORDWK2</td>\n",
       "      <td>Noordwijk 2 km uit de kust</td>\n",
       "      <td>NW2</td>\n",
       "      <td>52.260556</td>\n",
       "      <td>4.404722</td>\n",
       "      <td>NOORDZEE</td>\n",
       "      <td>COAST</td>\n",
       "      <td>13.0</td>\n",
       "      <td>5347</td>\n",
       "      <td>1</td>\n",
       "    </tr>\n",
       "    <tr>\n",
       "      <th>6</th>\n",
       "      <td>NOORDWK20</td>\n",
       "      <td>Noordwijk 20 km uit de kust</td>\n",
       "      <td>NW20</td>\n",
       "      <td>52.340833</td>\n",
       "      <td>4.173611</td>\n",
       "      <td>NOORDZEE</td>\n",
       "      <td>COAST</td>\n",
       "      <td>20.0</td>\n",
       "      <td>5345</td>\n",
       "      <td>1</td>\n",
       "    </tr>\n",
       "    <tr>\n",
       "      <th>7</th>\n",
       "      <td>HANSWGL</td>\n",
       "      <td>Hansweert geul</td>\n",
       "      <td>WSH</td>\n",
       "      <td>51.436111</td>\n",
       "      <td>4.014167</td>\n",
       "      <td>WESTERSCHELDE</td>\n",
       "      <td>ESTUARINE</td>\n",
       "      <td>17.3</td>\n",
       "      <td>4765</td>\n",
       "      <td>3</td>\n",
       "    </tr>\n",
       "    <tr>\n",
       "      <th>8</th>\n",
       "      <td>TERSLG10</td>\n",
       "      <td>Terschelling 10 km uit de kust</td>\n",
       "      <td>TS10</td>\n",
       "      <td>53.460278</td>\n",
       "      <td>5.099444</td>\n",
       "      <td>NOORDZEE</td>\n",
       "      <td>COAST</td>\n",
       "      <td>24.3</td>\n",
       "      <td>4682</td>\n",
       "      <td>1</td>\n",
       "    </tr>\n",
       "    <tr>\n",
       "      <th>9</th>\n",
       "      <td>NOORDWK70</td>\n",
       "      <td>Noordwijk 70 km uit de kust</td>\n",
       "      <td>NW70</td>\n",
       "      <td>52.585278</td>\n",
       "      <td>3.530000</td>\n",
       "      <td>NOORDZEE</td>\n",
       "      <td>OPENSEA</td>\n",
       "      <td>28.0</td>\n",
       "      <td>4091</td>\n",
       "      <td>0</td>\n",
       "    </tr>\n",
       "    <tr>\n",
       "      <th>10</th>\n",
       "      <td>LODSGT</td>\n",
       "      <td>Lodijkse Gat</td>\n",
       "      <td>OSL</td>\n",
       "      <td>51.515278</td>\n",
       "      <td>4.126944</td>\n",
       "      <td>OOSTERSCHELDE</td>\n",
       "      <td>ESTUARINE</td>\n",
       "      <td>4.8</td>\n",
       "      <td>3882</td>\n",
       "      <td>2</td>\n",
       "    </tr>\n",
       "    <tr>\n",
       "      <th>11</th>\n",
       "      <td>WALCRN20</td>\n",
       "      <td>Walcheren 20 km uit de kust</td>\n",
       "      <td>WA20</td>\n",
       "      <td>51.657778</td>\n",
       "      <td>3.219167</td>\n",
       "      <td>NOORDZEE</td>\n",
       "      <td>COAST</td>\n",
       "      <td>22.0</td>\n",
       "      <td>3347</td>\n",
       "      <td>1</td>\n",
       "    </tr>\n",
       "    <tr>\n",
       "      <th>12</th>\n",
       "      <td>TERSLG4</td>\n",
       "      <td>Terschelling 4 km uit de kust</td>\n",
       "      <td>TS4</td>\n",
       "      <td>53.414444</td>\n",
       "      <td>5.149167</td>\n",
       "      <td>NOORDZEE</td>\n",
       "      <td>COAST</td>\n",
       "      <td>13.1</td>\n",
       "      <td>3275</td>\n",
       "      <td>1</td>\n",
       "    </tr>\n",
       "    <tr>\n",
       "      <th>13</th>\n",
       "      <td>GROOTGND</td>\n",
       "      <td>Groote Gat noord</td>\n",
       "      <td>EDG</td>\n",
       "      <td>53.304167</td>\n",
       "      <td>7.156667</td>\n",
       "      <td>EEMSDOLLARD</td>\n",
       "      <td>ESTUARINE</td>\n",
       "      <td>5.9</td>\n",
       "      <td>3236</td>\n",
       "      <td>4</td>\n",
       "    </tr>\n",
       "    <tr>\n",
       "      <th>14</th>\n",
       "      <td>DREISR</td>\n",
       "      <td>Dreischor</td>\n",
       "      <td>GMD</td>\n",
       "      <td>51.714722</td>\n",
       "      <td>3.999444</td>\n",
       "      <td>GREVELINGENMEER</td>\n",
       "      <td>LAKE</td>\n",
       "      <td>19.3</td>\n",
       "      <td>3192</td>\n",
       "      <td>5</td>\n",
       "    </tr>\n",
       "    <tr>\n",
       "      <th>15</th>\n",
       "      <td>WALCRN2</td>\n",
       "      <td>Walcheren 2 km uit de kust</td>\n",
       "      <td>WA2</td>\n",
       "      <td>51.548056</td>\n",
       "      <td>3.409444</td>\n",
       "      <td>NOORDZEE</td>\n",
       "      <td>COAST</td>\n",
       "      <td>8.0</td>\n",
       "      <td>3035</td>\n",
       "      <td>2</td>\n",
       "    </tr>\n",
       "    <tr>\n",
       "      <th>16</th>\n",
       "      <td>TERSLG100</td>\n",
       "      <td>Terschelling 100 km uit de kust</td>\n",
       "      <td>TS100</td>\n",
       "      <td>54.148611</td>\n",
       "      <td>4.340556</td>\n",
       "      <td>NOORDZEE</td>\n",
       "      <td>OPENSEA</td>\n",
       "      <td>48.6</td>\n",
       "      <td>2969</td>\n",
       "      <td>0</td>\n",
       "    </tr>\n",
       "    <tr>\n",
       "      <th>17</th>\n",
       "      <td>WALCRN70</td>\n",
       "      <td>Walcheren 70 km uit de kust</td>\n",
       "      <td>WA70</td>\n",
       "      <td>51.956111</td>\n",
       "      <td>2.677778</td>\n",
       "      <td>NOORDZEE</td>\n",
       "      <td>OPENSEA</td>\n",
       "      <td>30.0</td>\n",
       "      <td>2914</td>\n",
       "      <td>1</td>\n",
       "    </tr>\n",
       "    <tr>\n",
       "      <th>18</th>\n",
       "      <td>GOERE6</td>\n",
       "      <td>Goeree 6 km uit de kust</td>\n",
       "      <td>GOE6</td>\n",
       "      <td>51.868889</td>\n",
       "      <td>3.872222</td>\n",
       "      <td>NOORDZEE</td>\n",
       "      <td>COAST</td>\n",
       "      <td>8.8</td>\n",
       "      <td>2897</td>\n",
       "      <td>2</td>\n",
       "    </tr>\n",
       "    <tr>\n",
       "      <th>19</th>\n",
       "      <td>TERSLG135</td>\n",
       "      <td>Terschelling 135 km uit de kust</td>\n",
       "      <td>TS135</td>\n",
       "      <td>54.414722</td>\n",
       "      <td>4.039722</td>\n",
       "      <td>NOORDZEE</td>\n",
       "      <td>OPENSEA</td>\n",
       "      <td>35.0</td>\n",
       "      <td>2857</td>\n",
       "      <td>0</td>\n",
       "    </tr>\n",
       "    <tr>\n",
       "      <th>20</th>\n",
       "      <td>ROTTMPT3</td>\n",
       "      <td>Rottumerplaat 3 km uit de kust</td>\n",
       "      <td>RP3</td>\n",
       "      <td>53.565278</td>\n",
       "      <td>6.562778</td>\n",
       "      <td>NOORDZEE</td>\n",
       "      <td>COAST</td>\n",
       "      <td>9.0</td>\n",
       "      <td>2577</td>\n",
       "      <td>2</td>\n",
       "    </tr>\n",
       "    <tr>\n",
       "      <th>21</th>\n",
       "      <td>TERSLG235</td>\n",
       "      <td>Terschelling 235 km uit de kust</td>\n",
       "      <td>TS235</td>\n",
       "      <td>55.171389</td>\n",
       "      <td>3.156111</td>\n",
       "      <td>NOORDZEE</td>\n",
       "      <td>OPENSEA</td>\n",
       "      <td>18.0</td>\n",
       "      <td>2487</td>\n",
       "      <td>0</td>\n",
       "    </tr>\n",
       "    <tr>\n",
       "      <th>22</th>\n",
       "      <td>TERSLG175</td>\n",
       "      <td>Terschelling 175 km uit de kust</td>\n",
       "      <td>TS175</td>\n",
       "      <td>54.718333</td>\n",
       "      <td>3.690278</td>\n",
       "      <td>NOORDZEE</td>\n",
       "      <td>OPENSEA</td>\n",
       "      <td>35.0</td>\n",
       "      <td>2302</td>\n",
       "      <td>0</td>\n",
       "    </tr>\n",
       "    <tr>\n",
       "      <th>23</th>\n",
       "      <td>ROTTMPT50</td>\n",
       "      <td>Rottumerplaat 50 km uit de kust</td>\n",
       "      <td>RP50</td>\n",
       "      <td>53.953056</td>\n",
       "      <td>6.308611</td>\n",
       "      <td>NOORDZEE</td>\n",
       "      <td>OPENSEA</td>\n",
       "      <td>20.0</td>\n",
       "      <td>2017</td>\n",
       "      <td>0</td>\n",
       "    </tr>\n",
       "    <tr>\n",
       "      <th>24</th>\n",
       "      <td>SOELKKPDOT</td>\n",
       "      <td>Soelekerkerpolder oost</td>\n",
       "      <td>VMS</td>\n",
       "      <td>51.542222</td>\n",
       "      <td>3.730833</td>\n",
       "      <td>VEERSEMEER</td>\n",
       "      <td>LAKE</td>\n",
       "      <td>25.0</td>\n",
       "      <td>1952</td>\n",
       "      <td>5</td>\n",
       "    </tr>\n",
       "    <tr>\n",
       "      <th>25</th>\n",
       "      <td>ROTTMPT70</td>\n",
       "      <td>Rottumerplaat 70 km uit de kust</td>\n",
       "      <td>RP70</td>\n",
       "      <td>54.117222</td>\n",
       "      <td>6.212778</td>\n",
       "      <td>NOORDZEE</td>\n",
       "      <td>OPENSEA</td>\n",
       "      <td>24.0</td>\n",
       "      <td>1892</td>\n",
       "      <td>0</td>\n",
       "    </tr>\n",
       "    <tr>\n",
       "      <th>26</th>\n",
       "      <td>SCHAARVODDL</td>\n",
       "      <td>Schaar van Ouden Doel</td>\n",
       "      <td>WSO</td>\n",
       "      <td>51.350278</td>\n",
       "      <td>4.250556</td>\n",
       "      <td>WESTERSCHELDE</td>\n",
       "      <td>ESTUARINE</td>\n",
       "      <td>14.9</td>\n",
       "      <td>1889</td>\n",
       "      <td>4</td>\n",
       "    </tr>\n",
       "  </tbody>\n",
       "</table>\n",
       "</div>"
      ],
      "text/plain": [
       "      DONAR CODE                DONAR-DESCRIPTION    LOC        Lat       Lon  \\\n",
       "0      NOORDWK10      Noordwijk 10 km uit de kust   NW10  52.301389  4.301111   \n",
       "1        HUIBGOT                  Huibertgat oost    EDH  53.559167  6.661111   \n",
       "2        MARSDND                   Marsdiep noord    WZM  52.982500  4.750000   \n",
       "3        DANTZGT                       Dantziggat    WZD  53.401111  5.726944   \n",
       "4   VLISSGBISSVH             Vlissingen boei SSVH    WSV  51.411944  3.565556   \n",
       "5       NOORDWK2       Noordwijk 2 km uit de kust    NW2  52.260556  4.404722   \n",
       "6      NOORDWK20      Noordwijk 20 km uit de kust   NW20  52.340833  4.173611   \n",
       "7        HANSWGL                   Hansweert geul    WSH  51.436111  4.014167   \n",
       "8       TERSLG10   Terschelling 10 km uit de kust   TS10  53.460278  5.099444   \n",
       "9      NOORDWK70      Noordwijk 70 km uit de kust   NW70  52.585278  3.530000   \n",
       "10        LODSGT                     Lodijkse Gat    OSL  51.515278  4.126944   \n",
       "11      WALCRN20      Walcheren 20 km uit de kust   WA20  51.657778  3.219167   \n",
       "12       TERSLG4    Terschelling 4 km uit de kust    TS4  53.414444  5.149167   \n",
       "13      GROOTGND                 Groote Gat noord    EDG  53.304167  7.156667   \n",
       "14        DREISR                        Dreischor    GMD  51.714722  3.999444   \n",
       "15       WALCRN2       Walcheren 2 km uit de kust    WA2  51.548056  3.409444   \n",
       "16     TERSLG100  Terschelling 100 km uit de kust  TS100  54.148611  4.340556   \n",
       "17      WALCRN70      Walcheren 70 km uit de kust   WA70  51.956111  2.677778   \n",
       "18        GOERE6          Goeree 6 km uit de kust   GOE6  51.868889  3.872222   \n",
       "19     TERSLG135  Terschelling 135 km uit de kust  TS135  54.414722  4.039722   \n",
       "20      ROTTMPT3   Rottumerplaat 3 km uit de kust    RP3  53.565278  6.562778   \n",
       "21     TERSLG235  Terschelling 235 km uit de kust  TS235  55.171389  3.156111   \n",
       "22     TERSLG175  Terschelling 175 km uit de kust  TS175  54.718333  3.690278   \n",
       "23     ROTTMPT50  Rottumerplaat 50 km uit de kust   RP50  53.953056  6.308611   \n",
       "24    SOELKKPDOT           Soelekerkerpolder oost    VMS  51.542222  3.730833   \n",
       "25     ROTTMPT70  Rottumerplaat 70 km uit de kust   RP70  54.117222  6.212778   \n",
       "26   SCHAARVODDL            Schaar van Ouden Doel    WSO  51.350278  4.250556   \n",
       "\n",
       "          WATERBODY       TYPE  h (m)  count cluster  \n",
       "0          NOORDZEE      COAST   18.2   8065       1  \n",
       "1       EEMSDOLLARD  ESTUARINE   27.9   6954       2  \n",
       "2         WADDENZEE  ESTUARINE   15.9   6927       2  \n",
       "3         WADDENZEE  ESTUARINE    9.5   6460       2  \n",
       "4     WESTERSCHELDE  ESTUARINE   18.2   5926       2  \n",
       "5          NOORDZEE      COAST   13.0   5347       1  \n",
       "6          NOORDZEE      COAST   20.0   5345       1  \n",
       "7     WESTERSCHELDE  ESTUARINE   17.3   4765       3  \n",
       "8          NOORDZEE      COAST   24.3   4682       1  \n",
       "9          NOORDZEE    OPENSEA   28.0   4091       0  \n",
       "10    OOSTERSCHELDE  ESTUARINE    4.8   3882       2  \n",
       "11         NOORDZEE      COAST   22.0   3347       1  \n",
       "12         NOORDZEE      COAST   13.1   3275       1  \n",
       "13      EEMSDOLLARD  ESTUARINE    5.9   3236       4  \n",
       "14  GREVELINGENMEER       LAKE   19.3   3192       5  \n",
       "15         NOORDZEE      COAST    8.0   3035       2  \n",
       "16         NOORDZEE    OPENSEA   48.6   2969       0  \n",
       "17         NOORDZEE    OPENSEA   30.0   2914       1  \n",
       "18         NOORDZEE      COAST    8.8   2897       2  \n",
       "19         NOORDZEE    OPENSEA   35.0   2857       0  \n",
       "20         NOORDZEE      COAST    9.0   2577       2  \n",
       "21         NOORDZEE    OPENSEA   18.0   2487       0  \n",
       "22         NOORDZEE    OPENSEA   35.0   2302       0  \n",
       "23         NOORDZEE    OPENSEA   20.0   2017       0  \n",
       "24       VEERSEMEER       LAKE   25.0   1952       5  \n",
       "25         NOORDZEE    OPENSEA   24.0   1892       0  \n",
       "26    WESTERSCHELDE  ESTUARINE   14.9   1889       4  "
      ]
     },
     "metadata": {},
     "output_type": "display_data"
    }
   ],
   "source": [
    "clusters = [['NOORDWK70',\n",
    "  'ROTTMPT50',\n",
    "  'ROTTMPT70',\n",
    "  'TERSLG100',\n",
    "  'TERSLG135',\n",
    "  'TERSLG175',\n",
    "  'TERSLG235'],\n",
    " ['NOORDWK10',\n",
    "  'NOORDWK2',\n",
    "  'NOORDWK20',\n",
    "  'TERSLG10',\n",
    "  'TERSLG4',\n",
    "  'WALCRN20',\n",
    "  'WALCRN70'],\n",
    " ['DANTZGT',\n",
    "  'GOERE6',\n",
    "  'HUIBGOT',\n",
    "  'LODSGT',\n",
    "  'MARSDND',\n",
    "  'ROTTMPT3',\n",
    "  'VLISSGBISSVH',\n",
    "  'WALCRN2'],\n",
    " ['HANSWGL'],\n",
    " ['GROOTGND', 'SCHAARVODDL'],\n",
    " ['DREISR', 'SOELKKPDOT']]\n",
    "\n",
    "df_clustered = df_merged\n",
    "\n",
    "df_clustered[\"cluster\"] = \"0\"\n",
    "\n",
    "for i, cluster in enumerate(clusters):\n",
    "  df_clustered.loc[df_clustered[\"DONAR CODE\"].isin(cluster), \"cluster\"] = f\"{i}\"\n",
    "\n",
    "display(df_clustered)"
   ]
  },
  {
   "cell_type": "code",
   "execution_count": 25,
   "metadata": {},
   "outputs": [
    {
     "data": {
      "application/vnd.plotly.v1+json": {
       "config": {
        "plotlyServerURL": "https://plot.ly"
       },
       "data": [
        {
         "hovertemplate": "<b>%{hovertext}</b><br><br>cluster=1<br>count=%{marker.size}<br>Lat=%{lat}<br>Lon=%{lon}<extra></extra>",
         "hovertext": [
          "Noordwijk 10 km uit de kust",
          "Noordwijk 2 km uit de kust",
          "Noordwijk 20 km uit de kust",
          "Terschelling 10 km uit de kust",
          "Walcheren 20 km uit de kust",
          "Terschelling 4 km uit de kust",
          "Walcheren 70 km uit de kust"
         ],
         "lat": [
          52.30138888888889,
          52.260555555555555,
          52.340833333333336,
          53.46027777777778,
          51.657777777777774,
          53.41444444444444,
          51.95611111111111
         ],
         "legendgroup": "1",
         "lon": [
          4.301111111111111,
          4.404722222222222,
          4.173611111111112,
          5.099444444444444,
          3.2191666666666667,
          5.149166666666667,
          2.6777777777777776
         ],
         "marker": {
          "color": "#0F1BB3",
          "opacity": 0.9,
          "size": [
           8065,
           5347,
           5345,
           4682,
           3347,
           3275,
           2914
          ],
          "sizemode": "area",
          "sizeref": 20.1625
         },
         "mode": "markers",
         "name": "1",
         "showlegend": true,
         "subplot": "mapbox",
         "type": "scattermapbox"
        },
        {
         "hovertemplate": "<b>%{hovertext}</b><br><br>cluster=2<br>count=%{marker.size}<br>Lat=%{lat}<br>Lon=%{lon}<extra></extra>",
         "hovertext": [
          "Huibertgat oost",
          "Marsdiep noord",
          "Dantziggat",
          "Vlissingen boei SSVH",
          "Lodijkse Gat",
          "Walcheren 2 km uit de kust",
          "Goeree 6 km uit de kust",
          "Rottumerplaat 3 km uit de kust"
         ],
         "lat": [
          53.55916666666666,
          52.9825,
          53.401111111111106,
          51.411944444444444,
          51.515277777777776,
          51.54805555555556,
          51.86888888888889,
          53.56527777777777
         ],
         "legendgroup": "2",
         "lon": [
          6.661111111111111,
          4.75,
          5.726944444444444,
          3.5655555555555556,
          4.126944444444444,
          3.4094444444444445,
          3.8722222222222222,
          6.562777777777778
         ],
         "marker": {
          "color": "#32e875",
          "opacity": 0.9,
          "size": [
           6954,
           6927,
           6460,
           5926,
           3882,
           3035,
           2897,
           2577
          ],
          "sizemode": "area",
          "sizeref": 20.1625
         },
         "mode": "markers",
         "name": "2",
         "showlegend": true,
         "subplot": "mapbox",
         "type": "scattermapbox"
        },
        {
         "hovertemplate": "<b>%{hovertext}</b><br><br>cluster=3<br>count=%{marker.size}<br>Lat=%{lat}<br>Lon=%{lon}<extra></extra>",
         "hovertext": [
          "Hansweert geul"
         ],
         "lat": [
          51.43611111111111
         ],
         "legendgroup": "3",
         "lon": [
          4.014166666666667
         ],
         "marker": {
          "color": "#32e875",
          "opacity": 0.9,
          "size": [
           4765
          ],
          "sizemode": "area",
          "sizeref": 20.1625
         },
         "mode": "markers",
         "name": "3",
         "showlegend": true,
         "subplot": "mapbox",
         "type": "scattermapbox"
        },
        {
         "hovertemplate": "<b>%{hovertext}</b><br><br>cluster=0<br>count=%{marker.size}<br>Lat=%{lat}<br>Lon=%{lon}<extra></extra>",
         "hovertext": [
          "Noordwijk 70 km uit de kust",
          "Terschelling 100 km uit de kust",
          "Terschelling 135 km uit de kust",
          "Terschelling 235 km uit de kust",
          "Terschelling 175 km uit de kust",
          "Rottumerplaat 50 km uit de kust",
          "Rottumerplaat 70 km uit de kust"
         ],
         "lat": [
          52.58527777777778,
          54.14861111111111,
          54.414722222222224,
          55.171388888888885,
          54.718333333333334,
          53.95305555555556,
          54.117222222222225
         ],
         "legendgroup": "0",
         "lon": [
          3.53,
          4.3405555555555555,
          4.039722222222222,
          3.156111111111111,
          3.690277777777778,
          6.3086111111111105,
          6.212777777777778
         ],
         "marker": {
          "color": "#56ffff",
          "opacity": 0.9,
          "size": [
           4091,
           2969,
           2857,
           2487,
           2302,
           2017,
           1892
          ],
          "sizemode": "area",
          "sizeref": 20.1625
         },
         "mode": "markers",
         "name": "0",
         "showlegend": true,
         "subplot": "mapbox",
         "type": "scattermapbox"
        },
        {
         "hovertemplate": "<b>%{hovertext}</b><br><br>cluster=4<br>count=%{marker.size}<br>Lat=%{lat}<br>Lon=%{lon}<extra></extra>",
         "hovertext": [
          "Groote Gat noord",
          "Schaar van Ouden Doel"
         ],
         "lat": [
          53.30416666666667,
          51.35027777777778
         ],
         "legendgroup": "4",
         "lon": [
          7.156666666666667,
          4.250555555555556
         ],
         "marker": {
          "color": "#357ded",
          "opacity": 0.9,
          "size": [
           3236,
           1889
          ],
          "sizemode": "area",
          "sizeref": 20.1625
         },
         "mode": "markers",
         "name": "4",
         "showlegend": true,
         "subplot": "mapbox",
         "type": "scattermapbox"
        },
        {
         "hovertemplate": "<b>%{hovertext}</b><br><br>cluster=5<br>count=%{marker.size}<br>Lat=%{lat}<br>Lon=%{lon}<extra></extra>",
         "hovertext": [
          "Dreischor",
          "Soelekerkerpolder oost"
         ],
         "lat": [
          51.71472222222223,
          51.54222222222222
         ],
         "legendgroup": "5",
         "lon": [
          3.9994444444444444,
          3.7308333333333334
         ],
         "marker": {
          "color": "#19d3f3",
          "opacity": 0.9,
          "size": [
           3192,
           1952
          ],
          "sizemode": "area",
          "sizeref": 20.1625
         },
         "mode": "markers",
         "name": "5",
         "showlegend": true,
         "subplot": "mapbox",
         "type": "scattermapbox"
        }
       ],
       "layout": {
        "autosize": false,
        "height": 800,
        "legend": {
         "itemsizing": "constant",
         "title": {
          "text": "cluster"
         },
         "tracegroupgap": 0
        },
        "mapbox": {
         "accesstoken": "pk.eyJ1IjoiYXJkamFubyIsImEiOiJjbGRoZjZyeXQxNnZhM25vNmM5eW85MWprIn0.nEkhCKPA2i1hhOGf7dsO7Q",
         "center": {
          "lat": 52.803693415637866,
          "lon": 4.52332304526749
         },
         "domain": {
          "x": [
           0,
           1
          ],
          "y": [
           0,
           1
          ]
         },
         "style": "light",
         "zoom": 6
        },
        "template": {
         "data": {
          "bar": [
           {
            "error_x": {
             "color": "#2a3f5f"
            },
            "error_y": {
             "color": "#2a3f5f"
            },
            "marker": {
             "line": {
              "color": "#E5ECF6",
              "width": 0.5
             },
             "pattern": {
              "fillmode": "overlay",
              "size": 10,
              "solidity": 0.2
             }
            },
            "type": "bar"
           }
          ],
          "barpolar": [
           {
            "marker": {
             "line": {
              "color": "#E5ECF6",
              "width": 0.5
             },
             "pattern": {
              "fillmode": "overlay",
              "size": 10,
              "solidity": 0.2
             }
            },
            "type": "barpolar"
           }
          ],
          "carpet": [
           {
            "aaxis": {
             "endlinecolor": "#2a3f5f",
             "gridcolor": "white",
             "linecolor": "white",
             "minorgridcolor": "white",
             "startlinecolor": "#2a3f5f"
            },
            "baxis": {
             "endlinecolor": "#2a3f5f",
             "gridcolor": "white",
             "linecolor": "white",
             "minorgridcolor": "white",
             "startlinecolor": "#2a3f5f"
            },
            "type": "carpet"
           }
          ],
          "choropleth": [
           {
            "colorbar": {
             "outlinewidth": 0,
             "ticks": ""
            },
            "type": "choropleth"
           }
          ],
          "contour": [
           {
            "colorbar": {
             "outlinewidth": 0,
             "ticks": ""
            },
            "colorscale": [
             [
              0,
              "#0d0887"
             ],
             [
              0.1111111111111111,
              "#46039f"
             ],
             [
              0.2222222222222222,
              "#7201a8"
             ],
             [
              0.3333333333333333,
              "#9c179e"
             ],
             [
              0.4444444444444444,
              "#bd3786"
             ],
             [
              0.5555555555555556,
              "#d8576b"
             ],
             [
              0.6666666666666666,
              "#ed7953"
             ],
             [
              0.7777777777777778,
              "#fb9f3a"
             ],
             [
              0.8888888888888888,
              "#fdca26"
             ],
             [
              1,
              "#f0f921"
             ]
            ],
            "type": "contour"
           }
          ],
          "contourcarpet": [
           {
            "colorbar": {
             "outlinewidth": 0,
             "ticks": ""
            },
            "type": "contourcarpet"
           }
          ],
          "heatmap": [
           {
            "colorbar": {
             "outlinewidth": 0,
             "ticks": ""
            },
            "colorscale": [
             [
              0,
              "#0d0887"
             ],
             [
              0.1111111111111111,
              "#46039f"
             ],
             [
              0.2222222222222222,
              "#7201a8"
             ],
             [
              0.3333333333333333,
              "#9c179e"
             ],
             [
              0.4444444444444444,
              "#bd3786"
             ],
             [
              0.5555555555555556,
              "#d8576b"
             ],
             [
              0.6666666666666666,
              "#ed7953"
             ],
             [
              0.7777777777777778,
              "#fb9f3a"
             ],
             [
              0.8888888888888888,
              "#fdca26"
             ],
             [
              1,
              "#f0f921"
             ]
            ],
            "type": "heatmap"
           }
          ],
          "heatmapgl": [
           {
            "colorbar": {
             "outlinewidth": 0,
             "ticks": ""
            },
            "colorscale": [
             [
              0,
              "#0d0887"
             ],
             [
              0.1111111111111111,
              "#46039f"
             ],
             [
              0.2222222222222222,
              "#7201a8"
             ],
             [
              0.3333333333333333,
              "#9c179e"
             ],
             [
              0.4444444444444444,
              "#bd3786"
             ],
             [
              0.5555555555555556,
              "#d8576b"
             ],
             [
              0.6666666666666666,
              "#ed7953"
             ],
             [
              0.7777777777777778,
              "#fb9f3a"
             ],
             [
              0.8888888888888888,
              "#fdca26"
             ],
             [
              1,
              "#f0f921"
             ]
            ],
            "type": "heatmapgl"
           }
          ],
          "histogram": [
           {
            "marker": {
             "pattern": {
              "fillmode": "overlay",
              "size": 10,
              "solidity": 0.2
             }
            },
            "type": "histogram"
           }
          ],
          "histogram2d": [
           {
            "colorbar": {
             "outlinewidth": 0,
             "ticks": ""
            },
            "colorscale": [
             [
              0,
              "#0d0887"
             ],
             [
              0.1111111111111111,
              "#46039f"
             ],
             [
              0.2222222222222222,
              "#7201a8"
             ],
             [
              0.3333333333333333,
              "#9c179e"
             ],
             [
              0.4444444444444444,
              "#bd3786"
             ],
             [
              0.5555555555555556,
              "#d8576b"
             ],
             [
              0.6666666666666666,
              "#ed7953"
             ],
             [
              0.7777777777777778,
              "#fb9f3a"
             ],
             [
              0.8888888888888888,
              "#fdca26"
             ],
             [
              1,
              "#f0f921"
             ]
            ],
            "type": "histogram2d"
           }
          ],
          "histogram2dcontour": [
           {
            "colorbar": {
             "outlinewidth": 0,
             "ticks": ""
            },
            "colorscale": [
             [
              0,
              "#0d0887"
             ],
             [
              0.1111111111111111,
              "#46039f"
             ],
             [
              0.2222222222222222,
              "#7201a8"
             ],
             [
              0.3333333333333333,
              "#9c179e"
             ],
             [
              0.4444444444444444,
              "#bd3786"
             ],
             [
              0.5555555555555556,
              "#d8576b"
             ],
             [
              0.6666666666666666,
              "#ed7953"
             ],
             [
              0.7777777777777778,
              "#fb9f3a"
             ],
             [
              0.8888888888888888,
              "#fdca26"
             ],
             [
              1,
              "#f0f921"
             ]
            ],
            "type": "histogram2dcontour"
           }
          ],
          "mesh3d": [
           {
            "colorbar": {
             "outlinewidth": 0,
             "ticks": ""
            },
            "type": "mesh3d"
           }
          ],
          "parcoords": [
           {
            "line": {
             "colorbar": {
              "outlinewidth": 0,
              "ticks": ""
             }
            },
            "type": "parcoords"
           }
          ],
          "pie": [
           {
            "automargin": true,
            "type": "pie"
           }
          ],
          "scatter": [
           {
            "fillpattern": {
             "fillmode": "overlay",
             "size": 10,
             "solidity": 0.2
            },
            "type": "scatter"
           }
          ],
          "scatter3d": [
           {
            "line": {
             "colorbar": {
              "outlinewidth": 0,
              "ticks": ""
             }
            },
            "marker": {
             "colorbar": {
              "outlinewidth": 0,
              "ticks": ""
             }
            },
            "type": "scatter3d"
           }
          ],
          "scattercarpet": [
           {
            "marker": {
             "colorbar": {
              "outlinewidth": 0,
              "ticks": ""
             }
            },
            "type": "scattercarpet"
           }
          ],
          "scattergeo": [
           {
            "marker": {
             "colorbar": {
              "outlinewidth": 0,
              "ticks": ""
             }
            },
            "type": "scattergeo"
           }
          ],
          "scattergl": [
           {
            "marker": {
             "colorbar": {
              "outlinewidth": 0,
              "ticks": ""
             }
            },
            "type": "scattergl"
           }
          ],
          "scattermapbox": [
           {
            "marker": {
             "colorbar": {
              "outlinewidth": 0,
              "ticks": ""
             }
            },
            "type": "scattermapbox"
           }
          ],
          "scatterpolar": [
           {
            "marker": {
             "colorbar": {
              "outlinewidth": 0,
              "ticks": ""
             }
            },
            "type": "scatterpolar"
           }
          ],
          "scatterpolargl": [
           {
            "marker": {
             "colorbar": {
              "outlinewidth": 0,
              "ticks": ""
             }
            },
            "type": "scatterpolargl"
           }
          ],
          "scatterternary": [
           {
            "marker": {
             "colorbar": {
              "outlinewidth": 0,
              "ticks": ""
             }
            },
            "type": "scatterternary"
           }
          ],
          "surface": [
           {
            "colorbar": {
             "outlinewidth": 0,
             "ticks": ""
            },
            "colorscale": [
             [
              0,
              "#0d0887"
             ],
             [
              0.1111111111111111,
              "#46039f"
             ],
             [
              0.2222222222222222,
              "#7201a8"
             ],
             [
              0.3333333333333333,
              "#9c179e"
             ],
             [
              0.4444444444444444,
              "#bd3786"
             ],
             [
              0.5555555555555556,
              "#d8576b"
             ],
             [
              0.6666666666666666,
              "#ed7953"
             ],
             [
              0.7777777777777778,
              "#fb9f3a"
             ],
             [
              0.8888888888888888,
              "#fdca26"
             ],
             [
              1,
              "#f0f921"
             ]
            ],
            "type": "surface"
           }
          ],
          "table": [
           {
            "cells": {
             "fill": {
              "color": "#EBF0F8"
             },
             "line": {
              "color": "white"
             }
            },
            "header": {
             "fill": {
              "color": "#C8D4E3"
             },
             "line": {
              "color": "white"
             }
            },
            "type": "table"
           }
          ]
         },
         "layout": {
          "annotationdefaults": {
           "arrowcolor": "#2a3f5f",
           "arrowhead": 0,
           "arrowwidth": 1
          },
          "autotypenumbers": "strict",
          "coloraxis": {
           "colorbar": {
            "outlinewidth": 0,
            "ticks": ""
           }
          },
          "colorscale": {
           "diverging": [
            [
             0,
             "#8e0152"
            ],
            [
             0.1,
             "#c51b7d"
            ],
            [
             0.2,
             "#de77ae"
            ],
            [
             0.3,
             "#f1b6da"
            ],
            [
             0.4,
             "#fde0ef"
            ],
            [
             0.5,
             "#f7f7f7"
            ],
            [
             0.6,
             "#e6f5d0"
            ],
            [
             0.7,
             "#b8e186"
            ],
            [
             0.8,
             "#7fbc41"
            ],
            [
             0.9,
             "#4d9221"
            ],
            [
             1,
             "#276419"
            ]
           ],
           "sequential": [
            [
             0,
             "#0d0887"
            ],
            [
             0.1111111111111111,
             "#46039f"
            ],
            [
             0.2222222222222222,
             "#7201a8"
            ],
            [
             0.3333333333333333,
             "#9c179e"
            ],
            [
             0.4444444444444444,
             "#bd3786"
            ],
            [
             0.5555555555555556,
             "#d8576b"
            ],
            [
             0.6666666666666666,
             "#ed7953"
            ],
            [
             0.7777777777777778,
             "#fb9f3a"
            ],
            [
             0.8888888888888888,
             "#fdca26"
            ],
            [
             1,
             "#f0f921"
            ]
           ],
           "sequentialminus": [
            [
             0,
             "#0d0887"
            ],
            [
             0.1111111111111111,
             "#46039f"
            ],
            [
             0.2222222222222222,
             "#7201a8"
            ],
            [
             0.3333333333333333,
             "#9c179e"
            ],
            [
             0.4444444444444444,
             "#bd3786"
            ],
            [
             0.5555555555555556,
             "#d8576b"
            ],
            [
             0.6666666666666666,
             "#ed7953"
            ],
            [
             0.7777777777777778,
             "#fb9f3a"
            ],
            [
             0.8888888888888888,
             "#fdca26"
            ],
            [
             1,
             "#f0f921"
            ]
           ]
          },
          "colorway": [
           "#636efa",
           "#EF553B",
           "#00cc96",
           "#ab63fa",
           "#FFA15A",
           "#19d3f3",
           "#FF6692",
           "#B6E880",
           "#FF97FF",
           "#FECB52"
          ],
          "font": {
           "color": "#2a3f5f"
          },
          "geo": {
           "bgcolor": "white",
           "lakecolor": "white",
           "landcolor": "#E5ECF6",
           "showlakes": true,
           "showland": true,
           "subunitcolor": "white"
          },
          "hoverlabel": {
           "align": "left"
          },
          "hovermode": "closest",
          "mapbox": {
           "style": "light"
          },
          "paper_bgcolor": "white",
          "plot_bgcolor": "#E5ECF6",
          "polar": {
           "angularaxis": {
            "gridcolor": "white",
            "linecolor": "white",
            "ticks": ""
           },
           "bgcolor": "#E5ECF6",
           "radialaxis": {
            "gridcolor": "white",
            "linecolor": "white",
            "ticks": ""
           }
          },
          "scene": {
           "xaxis": {
            "backgroundcolor": "#E5ECF6",
            "gridcolor": "white",
            "gridwidth": 2,
            "linecolor": "white",
            "showbackground": true,
            "ticks": "",
            "zerolinecolor": "white"
           },
           "yaxis": {
            "backgroundcolor": "#E5ECF6",
            "gridcolor": "white",
            "gridwidth": 2,
            "linecolor": "white",
            "showbackground": true,
            "ticks": "",
            "zerolinecolor": "white"
           },
           "zaxis": {
            "backgroundcolor": "#E5ECF6",
            "gridcolor": "white",
            "gridwidth": 2,
            "linecolor": "white",
            "showbackground": true,
            "ticks": "",
            "zerolinecolor": "white"
           }
          },
          "shapedefaults": {
           "line": {
            "color": "#2a3f5f"
           }
          },
          "ternary": {
           "aaxis": {
            "gridcolor": "white",
            "linecolor": "white",
            "ticks": ""
           },
           "baxis": {
            "gridcolor": "white",
            "linecolor": "white",
            "ticks": ""
           },
           "bgcolor": "#E5ECF6",
           "caxis": {
            "gridcolor": "white",
            "linecolor": "white",
            "ticks": ""
           }
          },
          "title": {
           "x": 0.05
          },
          "xaxis": {
           "automargin": true,
           "gridcolor": "white",
           "linecolor": "white",
           "ticks": "",
           "title": {
            "standoff": 15
           },
           "zerolinecolor": "white",
           "zerolinewidth": 2
          },
          "yaxis": {
           "automargin": true,
           "gridcolor": "white",
           "linecolor": "white",
           "ticks": "",
           "title": {
            "standoff": 15
           },
           "zerolinecolor": "white",
           "zerolinewidth": 2
          }
         }
        },
        "title": {
         "font": {
          "size": 20
         },
         "text": "Clustered Sample Locations"
        },
        "width": 1000
       }
      }
     },
     "metadata": {},
     "output_type": "display_data"
    }
   ],
   "source": [
    "px.set_mapbox_access_token(\"pk.eyJ1IjoiYXJkamFubyIsImEiOiJjbGRoZjZyeXQxNnZhM25vNmM5eW85MWprIn0.nEkhCKPA2i1hhOGf7dsO7Q\")\n",
    "\n",
    "color_dict = {\"2\": \"#32e875\", \"3\": \"#32e875\", \"4\": \"#357ded\", \"1\": \"#0F1BB3\", \"0\": \"#56ffff\"}\n",
    "\n",
    "fig = px.scatter_mapbox(df_clustered, lat='Lat', lon='Lon', color='cluster',\n",
    "                    hover_name='DONAR-DESCRIPTION',\n",
    "                    color_discrete_map=color_dict,\n",
    "                    mapbox_style='light',\n",
    "                    size=\"count\",\n",
    "                    title=f'Clustered Sample Locations',\n",
    "                    opacity=.9,\n",
    "                    zoom=6)\n",
    "\n",
    "fig.update_layout(\n",
    "    autosize=False,\n",
    "    width=1000,  # Adjust as needed\n",
    "    height=800,  # Adjust as needed\n",
    "    title={\n",
    "        \"font_size\": 20,\n",
    "    },\n",
    ")\n",
    "\n",
    "\n",
    "fig.show()"
   ]
  }
 ],
 "metadata": {
  "kernelspec": {
   "display_name": "Python 3",
   "language": "python",
   "name": "python3"
  },
  "language_info": {
   "codemirror_mode": {
    "name": "ipython",
    "version": 3
   },
   "file_extension": ".py",
   "mimetype": "text/x-python",
   "name": "python",
   "nbconvert_exporter": "python",
   "pygments_lexer": "ipython3",
   "version": "3.12.2"
  }
 },
 "nbformat": 4,
 "nbformat_minor": 2
}
