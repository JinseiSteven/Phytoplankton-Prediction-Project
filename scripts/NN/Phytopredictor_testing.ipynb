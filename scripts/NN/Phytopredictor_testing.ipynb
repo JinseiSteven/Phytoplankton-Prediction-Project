{
 "cells": [
  {
   "cell_type": "markdown",
   "metadata": {},
   "source": [
    "## Importing libraries and Dataset"
   ]
  },
  {
   "cell_type": "code",
   "execution_count": 13,
   "metadata": {},
   "outputs": [],
   "source": [
    "import numpy as np\n",
    "import pandas as pd\n",
    "import torch\n",
    "import matplotlib.pyplot as plt\n",
    "from torch.optim import Adam\n",
    "from Phytopredictor import PhytoPredictor, aggregate_phyto_data, predict, train_phytopredictor, data_splitter"
   ]
  },
  {
   "cell_type": "code",
   "execution_count": 14,
   "metadata": {},
   "outputs": [
    {
     "data": {
      "text/html": [
       "<div>\n",
       "<style scoped>\n",
       "    .dataframe tbody tr th:only-of-type {\n",
       "        vertical-align: middle;\n",
       "    }\n",
       "\n",
       "    .dataframe tbody tr th {\n",
       "        vertical-align: top;\n",
       "    }\n",
       "\n",
       "    .dataframe thead th {\n",
       "        text-align: right;\n",
       "    }\n",
       "</style>\n",
       "<table border=\"1\" class=\"dataframe\">\n",
       "  <thead>\n",
       "    <tr style=\"text-align: right;\">\n",
       "      <th></th>\n",
       "      <th>LOC_CODE</th>\n",
       "      <th>DATUM</th>\n",
       "      <th>TIJD</th>\n",
       "      <th>ZS [mg/l]</th>\n",
       "      <th>ZICHT [dm]</th>\n",
       "      <th>T [oC]</th>\n",
       "      <th>SiO2 [umol/L]</th>\n",
       "      <th>SALNTT [DIMSLS]</th>\n",
       "      <th>PO4 [umol/L]</th>\n",
       "      <th>pH [DIMSLS]</th>\n",
       "      <th>...</th>\n",
       "      <th>Pde</th>\n",
       "      <th>Plo</th>\n",
       "      <th>Dpu</th>\n",
       "      <th>Rte</th>\n",
       "      <th>Fja</th>\n",
       "      <th>Hak</th>\n",
       "      <th>Mhe</th>\n",
       "      <th>Dno</th>\n",
       "      <th>Dat</th>\n",
       "      <th>interpolated_columns</th>\n",
       "    </tr>\n",
       "  </thead>\n",
       "  <tbody>\n",
       "    <tr>\n",
       "      <th>0</th>\n",
       "      <td>DANTZGT</td>\n",
       "      <td>1990-01-10</td>\n",
       "      <td>15:00:00</td>\n",
       "      <td>135.0</td>\n",
       "      <td>2.0</td>\n",
       "      <td>4.0</td>\n",
       "      <td>20.178571</td>\n",
       "      <td>29.19</td>\n",
       "      <td>1.645161</td>\n",
       "      <td>7.8</td>\n",
       "      <td>...</td>\n",
       "      <td>NaN</td>\n",
       "      <td>NaN</td>\n",
       "      <td>NaN</td>\n",
       "      <td>NaN</td>\n",
       "      <td>NaN</td>\n",
       "      <td>NaN</td>\n",
       "      <td>NaN</td>\n",
       "      <td>NaN</td>\n",
       "      <td>NaN</td>\n",
       "      <td>[]</td>\n",
       "    </tr>\n",
       "    <tr>\n",
       "      <th>1</th>\n",
       "      <td>DANTZGT</td>\n",
       "      <td>1990-02-06</td>\n",
       "      <td>13:40:00</td>\n",
       "      <td>295.0</td>\n",
       "      <td>0.5</td>\n",
       "      <td>6.0</td>\n",
       "      <td>19.803571</td>\n",
       "      <td>27.37</td>\n",
       "      <td>1.177419</td>\n",
       "      <td>7.9</td>\n",
       "      <td>...</td>\n",
       "      <td>NaN</td>\n",
       "      <td>NaN</td>\n",
       "      <td>NaN</td>\n",
       "      <td>NaN</td>\n",
       "      <td>NaN</td>\n",
       "      <td>NaN</td>\n",
       "      <td>NaN</td>\n",
       "      <td>NaN</td>\n",
       "      <td>NaN</td>\n",
       "      <td>['SiO2 [umol/L]', 'PO4 [umol/L]', 'pH [DIMSLS]...</td>\n",
       "    </tr>\n",
       "    <tr>\n",
       "      <th>2</th>\n",
       "      <td>DANTZGT</td>\n",
       "      <td>1990-03-08</td>\n",
       "      <td>13:45:00</td>\n",
       "      <td>103.0</td>\n",
       "      <td>3.0</td>\n",
       "      <td>7.3</td>\n",
       "      <td>19.428571</td>\n",
       "      <td>24.99</td>\n",
       "      <td>0.709677</td>\n",
       "      <td>8.0</td>\n",
       "      <td>...</td>\n",
       "      <td>NaN</td>\n",
       "      <td>NaN</td>\n",
       "      <td>NaN</td>\n",
       "      <td>NaN</td>\n",
       "      <td>NaN</td>\n",
       "      <td>NaN</td>\n",
       "      <td>NaN</td>\n",
       "      <td>NaN</td>\n",
       "      <td>NaN</td>\n",
       "      <td>[]</td>\n",
       "    </tr>\n",
       "    <tr>\n",
       "      <th>3</th>\n",
       "      <td>DANTZGT</td>\n",
       "      <td>1990-04-04</td>\n",
       "      <td>10:00:00</td>\n",
       "      <td>113.0</td>\n",
       "      <td>3.0</td>\n",
       "      <td>8.2</td>\n",
       "      <td>6.285714</td>\n",
       "      <td>28.79</td>\n",
       "      <td>0.806452</td>\n",
       "      <td>8.1</td>\n",
       "      <td>...</td>\n",
       "      <td>NaN</td>\n",
       "      <td>NaN</td>\n",
       "      <td>NaN</td>\n",
       "      <td>NaN</td>\n",
       "      <td>NaN</td>\n",
       "      <td>NaN</td>\n",
       "      <td>NaN</td>\n",
       "      <td>NaN</td>\n",
       "      <td>NaN</td>\n",
       "      <td>[]</td>\n",
       "    </tr>\n",
       "    <tr>\n",
       "      <th>4</th>\n",
       "      <td>DANTZGT</td>\n",
       "      <td>1990-05-09</td>\n",
       "      <td>15:30:00</td>\n",
       "      <td>20.0</td>\n",
       "      <td>11.0</td>\n",
       "      <td>17.4</td>\n",
       "      <td>1.714286</td>\n",
       "      <td>33.28</td>\n",
       "      <td>1.161290</td>\n",
       "      <td>8.3</td>\n",
       "      <td>...</td>\n",
       "      <td>NaN</td>\n",
       "      <td>NaN</td>\n",
       "      <td>NaN</td>\n",
       "      <td>NaN</td>\n",
       "      <td>NaN</td>\n",
       "      <td>NaN</td>\n",
       "      <td>NaN</td>\n",
       "      <td>NaN</td>\n",
       "      <td>NaN</td>\n",
       "      <td>[]</td>\n",
       "    </tr>\n",
       "  </tbody>\n",
       "</table>\n",
       "<p>5 rows × 107 columns</p>\n",
       "</div>"
      ],
      "text/plain": [
       "  LOC_CODE      DATUM      TIJD  ZS [mg/l]  ZICHT [dm]  T [oC]  SiO2 [umol/L]  \\\n",
       "0  DANTZGT 1990-01-10  15:00:00      135.0         2.0     4.0      20.178571   \n",
       "1  DANTZGT 1990-02-06  13:40:00      295.0         0.5     6.0      19.803571   \n",
       "2  DANTZGT 1990-03-08  13:45:00      103.0         3.0     7.3      19.428571   \n",
       "3  DANTZGT 1990-04-04  10:00:00      113.0         3.0     8.2       6.285714   \n",
       "4  DANTZGT 1990-05-09  15:30:00       20.0        11.0    17.4       1.714286   \n",
       "\n",
       "   SALNTT [DIMSLS]  PO4 [umol/L]  pH [DIMSLS]  ...  Pde  Plo  Dpu  Rte Fja  \\\n",
       "0            29.19      1.645161          7.8  ...  NaN  NaN  NaN  NaN NaN   \n",
       "1            27.37      1.177419          7.9  ...  NaN  NaN  NaN  NaN NaN   \n",
       "2            24.99      0.709677          8.0  ...  NaN  NaN  NaN  NaN NaN   \n",
       "3            28.79      0.806452          8.1  ...  NaN  NaN  NaN  NaN NaN   \n",
       "4            33.28      1.161290          8.3  ...  NaN  NaN  NaN  NaN NaN   \n",
       "\n",
       "   Hak  Mhe  Dno  Dat                               interpolated_columns  \n",
       "0  NaN  NaN  NaN  NaN                                                 []  \n",
       "1  NaN  NaN  NaN  NaN  ['SiO2 [umol/L]', 'PO4 [umol/L]', 'pH [DIMSLS]...  \n",
       "2  NaN  NaN  NaN  NaN                                                 []  \n",
       "3  NaN  NaN  NaN  NaN                                                 []  \n",
       "4  NaN  NaN  NaN  NaN                                                 []  \n",
       "\n",
       "[5 rows x 107 columns]"
      ]
     },
     "execution_count": 14,
     "metadata": {},
     "output_type": "execute_result"
    }
   ],
   "source": [
    "df = pd.read_excel('../../data/MERGED_DATA_180624.xlsx', sheet_name='MERGE_FINAL')\n",
    "df.head()"
   ]
  },
  {
   "cell_type": "markdown",
   "metadata": {},
   "source": [
    "## Defining the different columns and preparing the dataframe"
   ]
  },
  {
   "cell_type": "code",
   "execution_count": 15,
   "metadata": {},
   "outputs": [],
   "source": [
    "\n",
    "columns = list(df.columns)\n",
    "\n",
    "abio_columns = ['ZS [mg/l]', 'T [oC]', 'SiO2 [umol/L]', 'SALNTT [DIMSLS]', 'PO4 [umol/L]', 'pH [DIMSLS]', 'NO3 [umol/L]', 'NO2 [umol/L]', 'NH4 [umol/L]', 'E [/m]', 'CHLFa [ug/l]']\n",
    "phyto_columns = ['Acn', 'Aco', 'Agl', 'Ata', 'Cau', 'Ccu', 'Cda',\n",
    "       'Cdeb', 'Cden', 'Cdi', 'Cei', 'Cfu', 'Cgr', 'Cha', 'Coc', 'Cra', 'Csu',\n",
    "       'Cwa', 'Dac', 'Dat', 'Dbr', 'Dip', 'Dle', 'Dno', 'Dpu', 'Dro', 'Dsp',\n",
    "       'Edu', 'Etr', 'Ezo', 'Fja', 'Gde', 'Gfa', 'Gfl', 'Gsp', 'Hak', 'Hta',\n",
    "       'Kgl', 'Lan', 'Lun', 'Mhe', 'Mnu', 'Mpe', 'Ndi', 'Nsc', 'Nsi', 'Oau',\n",
    "       'Omo', 'Ore', 'Orh', 'Oro', 'Osi', 'Pac', 'Pan', 'Pba', 'Pbi', 'Pbr',\n",
    "       'Pcl', 'Pco', 'Pde', 'Pha', 'Plo', 'Pmi', 'Pos', 'Pse', 'Pst', 'Psu',\n",
    "       'Pte', 'Ptr', 'Ram', 'Rse', 'Rst', 'Rte', 'Stu', 'Tec', 'Tle', 'Tni',\n",
    "       'Tno', 'Tor', 'Tro']\n",
    "loc_date_columns = [\"LOC_CODE\", \"DATUM\"]\n",
    "\n",
    "ignored_columns = set(df.columns) - set(loc_date_columns + abio_columns + phyto_columns)\n",
    "\n",
    "df = df.drop(list(ignored_columns), axis=1)\n",
    "\n",
    "# splitting the phytoplankton randomly for now\n",
    "clusters = np.split(np.asarray(phyto_columns), 5)\n"
   ]
  },
  {
   "cell_type": "markdown",
   "metadata": {},
   "source": [
    "## Aggregating the dataset using the clusterings"
   ]
  },
  {
   "cell_type": "code",
   "execution_count": 16,
   "metadata": {},
   "outputs": [
    {
     "data": {
      "text/html": [
       "<div>\n",
       "<style scoped>\n",
       "    .dataframe tbody tr th:only-of-type {\n",
       "        vertical-align: middle;\n",
       "    }\n",
       "\n",
       "    .dataframe tbody tr th {\n",
       "        vertical-align: top;\n",
       "    }\n",
       "\n",
       "    .dataframe thead th {\n",
       "        text-align: right;\n",
       "    }\n",
       "</style>\n",
       "<table border=\"1\" class=\"dataframe\">\n",
       "  <thead>\n",
       "    <tr style=\"text-align: right;\">\n",
       "      <th></th>\n",
       "      <th>LOC_CODE</th>\n",
       "      <th>DATUM</th>\n",
       "      <th>ZS [mg/l]</th>\n",
       "      <th>T [oC]</th>\n",
       "      <th>SiO2 [umol/L]</th>\n",
       "      <th>SALNTT [DIMSLS]</th>\n",
       "      <th>PO4 [umol/L]</th>\n",
       "      <th>pH [DIMSLS]</th>\n",
       "      <th>NO3 [umol/L]</th>\n",
       "      <th>NO2 [umol/L]</th>\n",
       "      <th>NH4 [umol/L]</th>\n",
       "      <th>E [/m]</th>\n",
       "      <th>CHLFa [ug/l]</th>\n",
       "      <th>group_0</th>\n",
       "      <th>group_1</th>\n",
       "      <th>group_2</th>\n",
       "      <th>group_3</th>\n",
       "      <th>group_4</th>\n",
       "    </tr>\n",
       "  </thead>\n",
       "  <tbody>\n",
       "    <tr>\n",
       "      <th>0</th>\n",
       "      <td>DANTZGT</td>\n",
       "      <td>1990-01-10</td>\n",
       "      <td>135.0</td>\n",
       "      <td>4.0</td>\n",
       "      <td>20.178571</td>\n",
       "      <td>29.19</td>\n",
       "      <td>1.645161</td>\n",
       "      <td>7.8</td>\n",
       "      <td>37.571429</td>\n",
       "      <td>3.714286</td>\n",
       "      <td>14.071429</td>\n",
       "      <td>0.751180</td>\n",
       "      <td>1.3</td>\n",
       "      <td>46.713973</td>\n",
       "      <td>48.221006</td>\n",
       "      <td>44.913413</td>\n",
       "      <td>50.458967</td>\n",
       "      <td>52.410028</td>\n",
       "    </tr>\n",
       "    <tr>\n",
       "      <th>1</th>\n",
       "      <td>DANTZGT</td>\n",
       "      <td>1990-02-06</td>\n",
       "      <td>295.0</td>\n",
       "      <td>6.0</td>\n",
       "      <td>19.803571</td>\n",
       "      <td>27.37</td>\n",
       "      <td>1.177419</td>\n",
       "      <td>7.9</td>\n",
       "      <td>63.428571</td>\n",
       "      <td>2.892857</td>\n",
       "      <td>11.357143</td>\n",
       "      <td>11.391822</td>\n",
       "      <td>11.2</td>\n",
       "      <td>46.713973</td>\n",
       "      <td>48.221006</td>\n",
       "      <td>44.913413</td>\n",
       "      <td>50.458967</td>\n",
       "      <td>52.410028</td>\n",
       "    </tr>\n",
       "    <tr>\n",
       "      <th>2</th>\n",
       "      <td>DANTZGT</td>\n",
       "      <td>1990-03-08</td>\n",
       "      <td>103.0</td>\n",
       "      <td>7.3</td>\n",
       "      <td>19.428571</td>\n",
       "      <td>24.99</td>\n",
       "      <td>0.709677</td>\n",
       "      <td>8.0</td>\n",
       "      <td>89.285714</td>\n",
       "      <td>2.071429</td>\n",
       "      <td>8.642857</td>\n",
       "      <td>1.364080</td>\n",
       "      <td>21.1</td>\n",
       "      <td>46.713973</td>\n",
       "      <td>48.221006</td>\n",
       "      <td>44.913413</td>\n",
       "      <td>50.458967</td>\n",
       "      <td>52.410028</td>\n",
       "    </tr>\n",
       "    <tr>\n",
       "      <th>3</th>\n",
       "      <td>DANTZGT</td>\n",
       "      <td>1990-04-04</td>\n",
       "      <td>113.0</td>\n",
       "      <td>8.2</td>\n",
       "      <td>6.285714</td>\n",
       "      <td>28.79</td>\n",
       "      <td>0.806452</td>\n",
       "      <td>8.1</td>\n",
       "      <td>40.000000</td>\n",
       "      <td>2.000000</td>\n",
       "      <td>6.428571</td>\n",
       "      <td>1.037580</td>\n",
       "      <td>25.0</td>\n",
       "      <td>46.713973</td>\n",
       "      <td>48.221006</td>\n",
       "      <td>44.913413</td>\n",
       "      <td>50.458967</td>\n",
       "      <td>52.410028</td>\n",
       "    </tr>\n",
       "    <tr>\n",
       "      <th>4</th>\n",
       "      <td>DANTZGT</td>\n",
       "      <td>1990-05-09</td>\n",
       "      <td>20.0</td>\n",
       "      <td>17.4</td>\n",
       "      <td>1.714286</td>\n",
       "      <td>33.28</td>\n",
       "      <td>1.161290</td>\n",
       "      <td>8.3</td>\n",
       "      <td>0.214286</td>\n",
       "      <td>0.142857</td>\n",
       "      <td>1.928571</td>\n",
       "      <td>0.738760</td>\n",
       "      <td>10.2</td>\n",
       "      <td>48.111727</td>\n",
       "      <td>48.318009</td>\n",
       "      <td>43.834850</td>\n",
       "      <td>48.859339</td>\n",
       "      <td>53.866902</td>\n",
       "    </tr>\n",
       "  </tbody>\n",
       "</table>\n",
       "</div>"
      ],
      "text/plain": [
       "  LOC_CODE      DATUM  ZS [mg/l]  T [oC]  SiO2 [umol/L]  SALNTT [DIMSLS]  \\\n",
       "0  DANTZGT 1990-01-10      135.0     4.0      20.178571            29.19   \n",
       "1  DANTZGT 1990-02-06      295.0     6.0      19.803571            27.37   \n",
       "2  DANTZGT 1990-03-08      103.0     7.3      19.428571            24.99   \n",
       "3  DANTZGT 1990-04-04      113.0     8.2       6.285714            28.79   \n",
       "4  DANTZGT 1990-05-09       20.0    17.4       1.714286            33.28   \n",
       "\n",
       "   PO4 [umol/L]  pH [DIMSLS]  NO3 [umol/L]  NO2 [umol/L]  NH4 [umol/L]  \\\n",
       "0      1.645161          7.8     37.571429      3.714286     14.071429   \n",
       "1      1.177419          7.9     63.428571      2.892857     11.357143   \n",
       "2      0.709677          8.0     89.285714      2.071429      8.642857   \n",
       "3      0.806452          8.1     40.000000      2.000000      6.428571   \n",
       "4      1.161290          8.3      0.214286      0.142857      1.928571   \n",
       "\n",
       "      E [/m]  CHLFa [ug/l]    group_0    group_1    group_2    group_3  \\\n",
       "0   0.751180           1.3  46.713973  48.221006  44.913413  50.458967   \n",
       "1  11.391822          11.2  46.713973  48.221006  44.913413  50.458967   \n",
       "2   1.364080          21.1  46.713973  48.221006  44.913413  50.458967   \n",
       "3   1.037580          25.0  46.713973  48.221006  44.913413  50.458967   \n",
       "4   0.738760          10.2  48.111727  48.318009  43.834850  48.859339   \n",
       "\n",
       "     group_4  \n",
       "0  52.410028  \n",
       "1  52.410028  \n",
       "2  52.410028  \n",
       "3  52.410028  \n",
       "4  53.866902  "
      ]
     },
     "execution_count": 16,
     "metadata": {},
     "output_type": "execute_result"
    }
   ],
   "source": [
    "grouped_phyto_df, group_labels = aggregate_phyto_data(df, clusters)\n",
    "\n",
    "grouped_phyto_df.head()"
   ]
  },
  {
   "cell_type": "markdown",
   "metadata": {},
   "source": [
    "## Splitting the Dataframe for each Location"
   ]
  },
  {
   "cell_type": "code",
   "execution_count": 17,
   "metadata": {},
   "outputs": [
    {
     "name": "stdout",
     "output_type": "stream",
     "text": [
      "DANTZGT: (598, 16)\n",
      "DREISR: (584, 16)\n",
      "GOERE6: (374, 16)\n",
      "GROOTGND: (588, 16)\n",
      "HANSWGL: (589, 16)\n",
      "HUIBGOT: (588, 16)\n",
      "LODSGT: (584, 16)\n",
      "MARSDND: (590, 16)\n",
      "NOORDWK10: (918, 16)\n",
      "NOORDWK2: (580, 16)\n",
      "NOORDWK20: (550, 16)\n",
      "NOORDWK70: (550, 16)\n",
      "ROTTMPT3: (289, 16)\n",
      "ROTTMPT50: (210, 16)\n",
      "ROTTMPT70: (210, 16)\n",
      "SCHAARVODDL: (816, 16)\n",
      "SOELKKPDOT: (584, 16)\n",
      "TERSLG10: (542, 16)\n",
      "TERSLG100: (461, 16)\n",
      "TERSLG135: (462, 16)\n",
      "TERSLG175: (373, 16)\n",
      "TERSLG235: (372, 16)\n",
      "TERSLG4: (288, 16)\n",
      "VLISSGBISSVH: (690, 16)\n",
      "WALCRN2: (373, 16)\n",
      "WALCRN20: (371, 16)\n",
      "WALCRN70: (371, 16)\n"
     ]
    }
   ],
   "source": [
    "location_groups = grouped_phyto_df.groupby(\"LOC_CODE\")\n",
    "\n",
    "location_data_dict = {}\n",
    "for name, loc_df in location_groups:\n",
    "    \n",
    "    loc_df = loc_df.drop(['DATUM', 'LOC_CODE'], axis=1)\n",
    "    \n",
    "    location_data_dict[name] = loc_df\n",
    "\n",
    "for key, value in location_data_dict.items():\n",
    "    print(f\"{key}: {value.shape}\")"
   ]
  },
  {
   "cell_type": "markdown",
   "metadata": {},
   "source": [
    "## Training the Model"
   ]
  },
  {
   "cell_type": "code",
   "execution_count": 18,
   "metadata": {},
   "outputs": [
    {
     "name": "stdout",
     "output_type": "stream",
     "text": [
      "PhytoPredictor(\n",
      "  (history_encoder): LSTM(5, 5)\n",
      "  (FFNN): Sequential(\n",
      "    (0): Dropout(p=0.5, inplace=False)\n",
      "    (1): Linear(in_features=16, out_features=8, bias=True)\n",
      "    (2): ReLU()\n",
      "    (3): Dropout(p=0.5, inplace=False)\n",
      "    (4): Linear(in_features=8, out_features=5, bias=True)\n",
      "  )\n",
      ")\n"
     ]
    },
    {
     "data": {
      "application/vnd.jupyter.widget-view+json": {
       "model_id": "8111ecd5965c4f9e80059d44f0d9032b",
       "version_major": 2,
       "version_minor": 0
      },
      "text/plain": [
       "  0%|          | 0/4180 [00:00<?, ?it/s]"
      ]
     },
     "metadata": {},
     "output_type": "display_data"
    }
   ],
   "source": [
    "input_size_phyto = len(clusters)\n",
    "input_size_abio = len(abio_columns)\n",
    "lstm_hidden_size = input_size_phyto\n",
    "ffnn_hidden_size = max(input_size_abio - 3, 5)\n",
    "output_size = input_size_phyto\n",
    "p_drop = 0.5\n",
    "bidirectional = False\n",
    "\n",
    "trial_name = \"First Test\"\n",
    "shuffled_rows = True\n",
    "random_seed = 2\n",
    "train_ratio = 0.7\n",
    "minimum_lookback = 10\n",
    "lookback = -1\n",
    "loss_metric = \"MSE\"\n",
    "epochs = 10\n",
    "check_interval = 10\n",
    "\n",
    "# for now we just train for DANTZGT\n",
    "data = location_data_dict[\"DANTZGT\"]\n",
    "\n",
    "model = PhytoPredictor(input_size_phyto, lstm_hidden_size, input_size_abio, ffnn_hidden_size, output_size, p_drop, bidirectional)\n",
    "\n",
    "# optimiser is Adam for now, but can be changed\n",
    "optimiser = Adam(model.parameters(), lr=0.001)\n",
    "\n",
    "model, training_loss_log, evaluation_loss_log, percentage_error_log = train_phytopredictor(model, \n",
    "                                                                     optimiser, \n",
    "                                                                     data, \n",
    "                                                                     trial_name, \n",
    "                                                                     abio_columns, \n",
    "                                                                     group_labels, \n",
    "                                                                     shuffled_rows, \n",
    "                                                                     random_seed, \n",
    "                                                                     train_ratio, \n",
    "                                                                     minimum_lookback, \n",
    "                                                                     lookback, \n",
    "                                                                     loss_metric, \n",
    "                                                                     epochs,\n",
    "                                                                     check_interval)"
   ]
  },
  {
   "cell_type": "code",
   "execution_count": 19,
   "metadata": {},
   "outputs": [
    {
     "name": "stdout",
     "output_type": "stream",
     "text": [
      "Last training loss:  1499.3357\n",
      "Last evaluation loss:  91.97629250919118\n",
      "Last percentage error:  81.37844669117646\n"
     ]
    },
    {
     "data": {
      "image/png": "[encoded data removed]",
      "text/plain": [
       "<Figure size 1500x400 with 4 Axes>"
      ]
     },
     "metadata": {},
     "output_type": "display_data"
    }
   ],
   "source": [
    "training_loss_log_np = [loss.detach().numpy() for loss in training_loss_log]\n",
    "\n",
    "# ty chatgpt for this ez function :)\n",
    "def moving_average(data, window_size):\n",
    "    cumsum = np.cumsum(data, dtype=float)\n",
    "    cumsum[window_size:] = cumsum[window_size:] - cumsum[:-window_size]\n",
    "    return cumsum[window_size - 1:] / window_size\n",
    "\n",
    "window_size = 100\n",
    "smoothed_training_loss = moving_average(training_loss_log_np, window_size)\n",
    "\n",
    "averaged_training_loss = [np.mean(training_loss_log_np[i:i+10]) for i in range(0, len(training_loss_log_np), 10)]\n",
    "\n",
    "fig, axs = plt.subplots(1, 4, figsize=(15, 4))\n",
    "_ = axs[0].plot(np.arange(len(training_loss_log_np)), training_loss_log_np)\n",
    "_ = axs[0].set_xlabel('Steps')\n",
    "_ = axs[0].set_ylabel('Training Loss')\n",
    "_ = axs[1].plot(np.arange(len(smoothed_training_loss)), smoothed_training_loss)\n",
    "_ = axs[1].set_xlabel('Steps')\n",
    "_ = axs[1].set_ylabel('Smoothed Training Loss')\n",
    "_ = axs[2].plot(np.arange(len(evaluation_loss_log)) * check_interval, evaluation_loss_log)\n",
    "_ = axs[2].set_xlabel('Steps')\n",
    "_ = axs[2].set_ylabel('Validation Loss')\n",
    "_ = axs[3].plot(np.arange(len(percentage_error_log)) * check_interval, percentage_error_log)\n",
    "_ = axs[3].set_xlabel('Steps')\n",
    "_ = axs[3].set_ylabel('Percentage Error')\n",
    "\n",
    "_ = fig.tight_layout(h_pad=2, w_pad=2)\n",
    "\n",
    "print(\"Last training loss: \", training_loss_log_np[-1])\n",
    "print(\"Last evaluation loss: \", evaluation_loss_log[-1])\n",
    "print(\"Last percentage error: \", percentage_error_log[-1])\n",
    "\n",
    "plt.show()"
   ]
  },
  {
   "cell_type": "markdown",
   "metadata": {},
   "source": [
    "### Optimise the parameters using Grid Search using the optuma library\n"
   ]
  },
  {
   "cell_type": "code",
   "execution_count": 20,
   "metadata": {},
   "outputs": [],
   "source": [
    "import itertools\n",
    "\n",
    "# Define the hyperparameter grid\n",
    "param_grid = {\n",
    "    'p_drop': [0.1, 0.3, 0.5, 0.7],\n",
    "    'bidirectional': [True, False],\n",
    "    'lr': [0.0001, 0.001, 0.01],\n",
    "    'epochs': [10, 20, 50],\n",
    "    'train_ratio': [0.6, 0.7, 0.8],\n",
    "    'lookback': [10, 20, 30, 40, 50]\n",
    "}\n",
    "\n",
    "# Generate all combinations of hyperparameters\n",
    "keys, values = zip(*param_grid.items())\n",
    "combinations = [dict(zip(keys, v)) for v in itertools.product(*values)]\n"
   ]
  },
  {
   "cell_type": "code",
   "execution_count": 21,
   "metadata": {},
   "outputs": [],
   "source": [
    "import optuna"
   ]
  },
  {
   "cell_type": "code",
   "execution_count": 22,
   "metadata": {},
   "outputs": [],
   "source": [
    "def objective(trial):\n",
    "    # Suggest values for the hyperparameters\n",
    "    p_drop = trial.suggest_float('p_drop', 0.1, 0.7)\n",
    "    bidirectional = trial.suggest_categorical('bidirectional', [True, False])\n",
    "    lr = trial.suggest_loguniform('lr', 1e-4, 1e-2)\n",
    "    epochs = trial.suggest_int('epochs', 10, 50)\n",
    "    train_ratio = trial.suggest_float('train_ratio', 0.6, 0.8)\n",
    "    lookback = trial.suggest_int('lookback', 10, 50)  # Updated with lookback\n",
    "    \n",
    "    # Create model and optimizer with suggested hyperparameters\n",
    "    model = PhytoPredictor(input_size_phyto, lstm_hidden_size, input_size_abio, ffnn_hidden_size, output_size, p_drop, bidirectional)\n",
    "    optimizer = Adam(model.parameters(), lr=lr)\n",
    "    \n",
    "    # Train the model (this is your train_phytopredictor function)\n",
    "    model, training_loss_log, evaluation_loss_log, percentage_error_log = train_phytopredictor(\n",
    "        model, optimizer, data, trial_name, abio_columns, group_labels, shuffled_rows,\n",
    "        random_seed, train_ratio, minimum_lookback, lookback, loss_metric, epochs, check_interval\n",
    "    )\n",
    "    \n",
    "    # Evaluate the model\n",
    "    evaluation_loss = evaluation_loss_log[-1]  # Assuming the last value is the evaluation loss\n",
    "    \n",
    "    return evaluation_loss\n",
    "\n",
    "# Run the optimization\n",
    "study = optuna.create_study(direction='minimize')\n",
    "study.optimize(objective, n_trials=100)\n",
    "\n",
    "# Get the best hyperparameters\n",
    "best_params = study.best_params\n",
    "print(best_params)\n"
   ]
  },
  {
   "cell_type": "code",
   "execution_count": 23,
   "metadata": {},
   "outputs": [
    {
     "name": "stdout",
     "output_type": "stream",
     "text": [
      "Testing combination: {'p_drop': 0.1, 'bidirectional': True, 'lr': 0.0001, 'epochs': 10, 'train_ratio': 0.6, 'lookback': 10}\n",
      "PhytoPredictor(\n",
      "  (history_encoder): LSTM(5, 5, bidirectional=True)\n",
      "  (FFNN): Sequential(\n",
      "    (0): Dropout(p=0.1, inplace=False)\n",
      "    (1): Linear(in_features=21, out_features=8, bias=True)\n",
      "    (2): ReLU()\n",
      "    (3): Dropout(p=0.1, inplace=False)\n",
      "    (4): Linear(in_features=8, out_features=5, bias=True)\n",
      "  )\n",
      ")\n"
     ]
    },
    {
     "data": {
      "application/vnd.jupyter.widget-view+json": {
       "model_id": "3922c67a72e042018b8088e548ea0fc4",
       "version_major": 2,
       "version_minor": 0
      },
      "text/plain": [
       "  0%|          | 0/3580 [00:00<?, ?it/s]"
      ]
     },
     "metadata": {},
     "output_type": "display_data"
    },
    {
     "name": "stdout",
     "output_type": "stream",
     "text": [
      "Testing combination: {'p_drop': 0.1, 'bidirectional': True, 'lr': 0.0001, 'epochs': 10, 'train_ratio': 0.6, 'lookback': 20}\n",
      "PhytoPredictor(\n",
      "  (history_encoder): LSTM(5, 5, bidirectional=True)\n",
      "  (FFNN): Sequential(\n",
      "    (0): Dropout(p=0.1, inplace=False)\n",
      "    (1): Linear(in_features=21, out_features=8, bias=True)\n",
      "    (2): ReLU()\n",
      "    (3): Dropout(p=0.1, inplace=False)\n",
      "    (4): Linear(in_features=8, out_features=5, bias=True)\n",
      "  )\n",
      ")\n"
     ]
    },
    {
     "data": {
      "application/vnd.jupyter.widget-view+json": {
       "model_id": "9b7b6487963e42809b945105eb47fec8",
       "version_major": 2,
       "version_minor": 0
      },
      "text/plain": [
       "  0%|          | 0/3580 [00:00<?, ?it/s]"
      ]
     },
     "metadata": {},
     "output_type": "display_data"
    },
    {
     "name": "stdout",
     "output_type": "stream",
     "text": [
      "Testing combination: {'p_drop': 0.1, 'bidirectional': True, 'lr': 0.0001, 'epochs': 10, 'train_ratio': 0.6, 'lookback': 30}\n",
      "PhytoPredictor(\n",
      "  (history_encoder): LSTM(5, 5, bidirectional=True)\n",
      "  (FFNN): Sequential(\n",
      "    (0): Dropout(p=0.1, inplace=False)\n",
      "    (1): Linear(in_features=21, out_features=8, bias=True)\n",
      "    (2): ReLU()\n",
      "    (3): Dropout(p=0.1, inplace=False)\n",
      "    (4): Linear(in_features=8, out_features=5, bias=True)\n",
      "  )\n",
      ")\n"
     ]
    },
    {
     "data": {
      "application/vnd.jupyter.widget-view+json": {
       "model_id": "3dc4c23921974d728a13bb23f1bd81fe",
       "version_major": 2,
       "version_minor": 0
      },
      "text/plain": [
       "  0%|          | 0/3580 [00:00<?, ?it/s]"
      ]
     },
     "metadata": {},
     "output_type": "display_data"
    },
    {
     "name": "stdout",
     "output_type": "stream",
     "text": [
      "Testing combination: {'p_drop': 0.1, 'bidirectional': True, 'lr': 0.0001, 'epochs': 10, 'train_ratio': 0.6, 'lookback': 40}\n",
      "PhytoPredictor(\n",
      "  (history_encoder): LSTM(5, 5, bidirectional=True)\n",
      "  (FFNN): Sequential(\n",
      "    (0): Dropout(p=0.1, inplace=False)\n",
      "    (1): Linear(in_features=21, out_features=8, bias=True)\n",
      "    (2): ReLU()\n",
      "    (3): Dropout(p=0.1, inplace=False)\n",
      "    (4): Linear(in_features=8, out_features=5, bias=True)\n",
      "  )\n",
      ")\n"
     ]
    },
    {
     "data": {
      "application/vnd.jupyter.widget-view+json": {
       "model_id": "3eedabba5eef40dca4e872f694556e24",
       "version_major": 2,
       "version_minor": 0
      },
      "text/plain": [
       "  0%|          | 0/3580 [00:00<?, ?it/s]"
      ]
     },
     "metadata": {},
     "output_type": "display_data"
    },
    {
     "name": "stdout",
     "output_type": "stream",
     "text": [
      "Testing combination: {'p_drop': 0.1, 'bidirectional': True, 'lr': 0.0001, 'epochs': 10, 'train_ratio': 0.6, 'lookback': 50}\n",
      "PhytoPredictor(\n",
      "  (history_encoder): LSTM(5, 5, bidirectional=True)\n",
      "  (FFNN): Sequential(\n",
      "    (0): Dropout(p=0.1, inplace=False)\n",
      "    (1): Linear(in_features=21, out_features=8, bias=True)\n",
      "    (2): ReLU()\n",
      "    (3): Dropout(p=0.1, inplace=False)\n",
      "    (4): Linear(in_features=8, out_features=5, bias=True)\n",
      "  )\n",
      ")\n"
     ]
    },
    {
     "data": {
      "application/vnd.jupyter.widget-view+json": {
       "model_id": "bdb6c1fa73fe4378a222c32b60fb23a7",
       "version_major": 2,
       "version_minor": 0
      },
      "text/plain": [
       "  0%|          | 0/3580 [00:00<?, ?it/s]"
      ]
     },
     "metadata": {},
     "output_type": "display_data"
    },
    {
     "name": "stdout",
     "output_type": "stream",
     "text": [
      "Testing combination: {'p_drop': 0.1, 'bidirectional': True, 'lr': 0.0001, 'epochs': 10, 'train_ratio': 0.7, 'lookback': 10}\n",
      "PhytoPredictor(\n",
      "  (history_encoder): LSTM(5, 5, bidirectional=True)\n",
      "  (FFNN): Sequential(\n",
      "    (0): Dropout(p=0.1, inplace=False)\n",
      "    (1): Linear(in_features=21, out_features=8, bias=True)\n",
      "    (2): ReLU()\n",
      "    (3): Dropout(p=0.1, inplace=False)\n",
      "    (4): Linear(in_features=8, out_features=5, bias=True)\n",
      "  )\n",
      ")\n"
     ]
    },
    {
     "data": {
      "application/vnd.jupyter.widget-view+json": {
       "model_id": "807e9adb17814d9a9bc67ea1ac479cbe",
       "version_major": 2,
       "version_minor": 0
      },
      "text/plain": [
       "  0%|          | 0/4180 [00:00<?, ?it/s]"
      ]
     },
     "metadata": {},
     "output_type": "display_data"
    },
    {
     "name": "stdout",
     "output_type": "stream",
     "text": [
      "Testing combination: {'p_drop': 0.1, 'bidirectional': True, 'lr': 0.0001, 'epochs': 10, 'train_ratio': 0.7, 'lookback': 20}\n",
      "PhytoPredictor(\n",
      "  (history_encoder): LSTM(5, 5, bidirectional=True)\n",
      "  (FFNN): Sequential(\n",
      "    (0): Dropout(p=0.1, inplace=False)\n",
      "    (1): Linear(in_features=21, out_features=8, bias=True)\n",
      "    (2): ReLU()\n",
      "    (3): Dropout(p=0.1, inplace=False)\n",
      "    (4): Linear(in_features=8, out_features=5, bias=True)\n",
      "  )\n",
      ")\n"
     ]
    },
    {
     "data": {
      "application/vnd.jupyter.widget-view+json": {
       "model_id": "60b98ffbce494a589fa2dad889dde99c",
       "version_major": 2,
       "version_minor": 0
      },
      "text/plain": [
       "  0%|          | 0/4180 [00:00<?, ?it/s]"
      ]
     },
     "metadata": {},
     "output_type": "display_data"
    },
    {
     "name": "stdout",
     "output_type": "stream",
     "text": [
      "Testing combination: {'p_drop': 0.1, 'bidirectional': True, 'lr': 0.0001, 'epochs': 10, 'train_ratio': 0.7, 'lookback': 30}\n",
      "PhytoPredictor(\n",
      "  (history_encoder): LSTM(5, 5, bidirectional=True)\n",
      "  (FFNN): Sequential(\n",
      "    (0): Dropout(p=0.1, inplace=False)\n",
      "    (1): Linear(in_features=21, out_features=8, bias=True)\n",
      "    (2): ReLU()\n",
      "    (3): Dropout(p=0.1, inplace=False)\n",
      "    (4): Linear(in_features=8, out_features=5, bias=True)\n",
      "  )\n",
      ")\n"
     ]
    },
    {
     "data": {
      "application/vnd.jupyter.widget-view+json": {
       "model_id": "7d7479e4a62e40b4a35ccecfc8e656db",
       "version_major": 2,
       "version_minor": 0
      },
      "text/plain": [
       "  0%|          | 0/4180 [00:00<?, ?it/s]"
      ]
     },
     "metadata": {},
     "output_type": "display_data"
    },
    {
     "name": "stdout",
     "output_type": "stream",
     "text": [
      "Testing combination: {'p_drop': 0.1, 'bidirectional': True, 'lr': 0.0001, 'epochs': 10, 'train_ratio': 0.7, 'lookback': 40}\n",
      "PhytoPredictor(\n",
      "  (history_encoder): LSTM(5, 5, bidirectional=True)\n",
      "  (FFNN): Sequential(\n",
      "    (0): Dropout(p=0.1, inplace=False)\n",
      "    (1): Linear(in_features=21, out_features=8, bias=True)\n",
      "    (2): ReLU()\n",
      "    (3): Dropout(p=0.1, inplace=False)\n",
      "    (4): Linear(in_features=8, out_features=5, bias=True)\n",
      "  )\n",
      ")\n"
     ]
    },
    {
     "data": {
      "application/vnd.jupyter.widget-view+json": {
       "model_id": "5ceafffd764e456cb9bfb77dcbe3cabb",
       "version_major": 2,
       "version_minor": 0
      },
      "text/plain": [
       "  0%|          | 0/4180 [00:00<?, ?it/s]"
      ]
     },
     "metadata": {},
     "output_type": "display_data"
    },
    {
     "name": "stdout",
     "output_type": "stream",
     "text": [
      "Testing combination: {'p_drop': 0.1, 'bidirectional': True, 'lr': 0.0001, 'epochs': 10, 'train_ratio': 0.7, 'lookback': 50}\n",
      "PhytoPredictor(\n",
      "  (history_encoder): LSTM(5, 5, bidirectional=True)\n",
      "  (FFNN): Sequential(\n",
      "    (0): Dropout(p=0.1, inplace=False)\n",
      "    (1): Linear(in_features=21, out_features=8, bias=True)\n",
      "    (2): ReLU()\n",
      "    (3): Dropout(p=0.1, inplace=False)\n",
      "    (4): Linear(in_features=8, out_features=5, bias=True)\n",
      "  )\n",
      ")\n"
     ]
    },
    {
     "data": {
      "application/vnd.jupyter.widget-view+json": {
       "model_id": "53b75a2af2934a5b85874cf782470c39",
       "version_major": 2,
       "version_minor": 0
      },
      "text/plain": [
       "  0%|          | 0/4180 [00:00<?, ?it/s]"
      ]
     },
     "metadata": {},
     "output_type": "display_data"
    },
    {
     "name": "stdout",
     "output_type": "stream",
     "text": [
      "Testing combination: {'p_drop': 0.1, 'bidirectional': True, 'lr': 0.0001, 'epochs': 10, 'train_ratio': 0.8, 'lookback': 10}\n",
      "PhytoPredictor(\n",
      "  (history_encoder): LSTM(5, 5, bidirectional=True)\n",
      "  (FFNN): Sequential(\n",
      "    (0): Dropout(p=0.1, inplace=False)\n",
      "    (1): Linear(in_features=21, out_features=8, bias=True)\n",
      "    (2): ReLU()\n",
      "    (3): Dropout(p=0.1, inplace=False)\n",
      "    (4): Linear(in_features=8, out_features=5, bias=True)\n",
      "  )\n",
      ")\n"
     ]
    },
    {
     "data": {
      "application/vnd.jupyter.widget-view+json": {
       "model_id": "08e559c3de9b42c1a5f01762daae2430",
       "version_major": 2,
       "version_minor": 0
      },
      "text/plain": [
       "  0%|          | 0/4780 [00:00<?, ?it/s]"
      ]
     },
     "metadata": {},
     "output_type": "display_data"
    },
    {
     "name": "stdout",
     "output_type": "stream",
     "text": [
      "Testing combination: {'p_drop': 0.1, 'bidirectional': True, 'lr': 0.0001, 'epochs': 10, 'train_ratio': 0.8, 'lookback': 20}\n",
      "PhytoPredictor(\n",
      "  (history_encoder): LSTM(5, 5, bidirectional=True)\n",
      "  (FFNN): Sequential(\n",
      "    (0): Dropout(p=0.1, inplace=False)\n",
      "    (1): Linear(in_features=21, out_features=8, bias=True)\n",
      "    (2): ReLU()\n",
      "    (3): Dropout(p=0.1, inplace=False)\n",
      "    (4): Linear(in_features=8, out_features=5, bias=True)\n",
      "  )\n",
      ")\n"
     ]
    },
    {
     "data": {
      "application/vnd.jupyter.widget-view+json": {
       "model_id": "8eeaca49b9eb408cb8a85168d36036c7",
       "version_major": 2,
       "version_minor": 0
      },
      "text/plain": [
       "  0%|          | 0/4780 [00:00<?, ?it/s]"
      ]
     },
     "metadata": {},
     "output_type": "display_data"
    },
    {
     "name": "stdout",
     "output_type": "stream",
     "text": [
      "Testing combination: {'p_drop': 0.1, 'bidirectional': True, 'lr': 0.0001, 'epochs': 10, 'train_ratio': 0.8, 'lookback': 30}\n",
      "PhytoPredictor(\n",
      "  (history_encoder): LSTM(5, 5, bidirectional=True)\n",
      "  (FFNN): Sequential(\n",
      "    (0): Dropout(p=0.1, inplace=False)\n",
      "    (1): Linear(in_features=21, out_features=8, bias=True)\n",
      "    (2): ReLU()\n",
      "    (3): Dropout(p=0.1, inplace=False)\n",
      "    (4): Linear(in_features=8, out_features=5, bias=True)\n",
      "  )\n",
      ")\n"
     ]
    },
    {
     "data": {
      "application/vnd.jupyter.widget-view+json": {
       "model_id": "9bbd0f8689fb45c1b0d29bf064cc5fc2",
       "version_major": 2,
       "version_minor": 0
      },
      "text/plain": [
       "  0%|          | 0/4780 [00:00<?, ?it/s]"
      ]
     },
     "metadata": {},
     "output_type": "display_data"
    },
    {
     "name": "stdout",
     "output_type": "stream",
     "text": [
      "Testing combination: {'p_drop': 0.1, 'bidirectional': True, 'lr': 0.0001, 'epochs': 10, 'train_ratio': 0.8, 'lookback': 40}\n",
      "PhytoPredictor(\n",
      "  (history_encoder): LSTM(5, 5, bidirectional=True)\n",
      "  (FFNN): Sequential(\n",
      "    (0): Dropout(p=0.1, inplace=False)\n",
      "    (1): Linear(in_features=21, out_features=8, bias=True)\n",
      "    (2): ReLU()\n",
      "    (3): Dropout(p=0.1, inplace=False)\n",
      "    (4): Linear(in_features=8, out_features=5, bias=True)\n",
      "  )\n",
      ")\n"
     ]
    },
    {
     "data": {
      "application/vnd.jupyter.widget-view+json": {
       "model_id": "dc539553372f46f1a836cffd0abb6656",
       "version_major": 2,
       "version_minor": 0
      },
      "text/plain": [
       "  0%|          | 0/4780 [00:00<?, ?it/s]"
      ]
     },
     "metadata": {},
     "output_type": "display_data"
    },
    {
     "name": "stdout",
     "output_type": "stream",
     "text": [
      "Testing combination: {'p_drop': 0.1, 'bidirectional': True, 'lr': 0.0001, 'epochs': 10, 'train_ratio': 0.8, 'lookback': 50}\n",
      "PhytoPredictor(\n",
      "  (history_encoder): LSTM(5, 5, bidirectional=True)\n",
      "  (FFNN): Sequential(\n",
      "    (0): Dropout(p=0.1, inplace=False)\n",
      "    (1): Linear(in_features=21, out_features=8, bias=True)\n",
      "    (2): ReLU()\n",
      "    (3): Dropout(p=0.1, inplace=False)\n",
      "    (4): Linear(in_features=8, out_features=5, bias=True)\n",
      "  )\n",
      ")\n"
     ]
    },
    {
     "data": {
      "application/vnd.jupyter.widget-view+json": {
       "model_id": "c1c432593eb04ca79bc392ac510d214f",
       "version_major": 2,
       "version_minor": 0
      },
      "text/plain": [
       "  0%|          | 0/4780 [00:00<?, ?it/s]"
      ]
     },
     "metadata": {},
     "output_type": "display_data"
    },
    {
     "name": "stdout",
     "output_type": "stream",
     "text": [
      "Testing combination: {'p_drop': 0.1, 'bidirectional': True, 'lr': 0.0001, 'epochs': 20, 'train_ratio': 0.6, 'lookback': 10}\n",
      "PhytoPredictor(\n",
      "  (history_encoder): LSTM(5, 5, bidirectional=True)\n",
      "  (FFNN): Sequential(\n",
      "    (0): Dropout(p=0.1, inplace=False)\n",
      "    (1): Linear(in_features=21, out_features=8, bias=True)\n",
      "    (2): ReLU()\n",
      "    (3): Dropout(p=0.1, inplace=False)\n",
      "    (4): Linear(in_features=8, out_features=5, bias=True)\n",
      "  )\n",
      ")\n"
     ]
    },
    {
     "data": {
      "application/vnd.jupyter.widget-view+json": {
       "model_id": "1bfd008cd35e4064914654ed8f0093b5",
       "version_major": 2,
       "version_minor": 0
      },
      "text/plain": [
       "  0%|          | 0/7160 [00:00<?, ?it/s]"
      ]
     },
     "metadata": {},
     "output_type": "display_data"
    },
    {
     "name": "stdout",
     "output_type": "stream",
     "text": [
      "Testing combination: {'p_drop': 0.1, 'bidirectional': True, 'lr': 0.0001, 'epochs': 20, 'train_ratio': 0.6, 'lookback': 20}\n",
      "PhytoPredictor(\n",
      "  (history_encoder): LSTM(5, 5, bidirectional=True)\n",
      "  (FFNN): Sequential(\n",
      "    (0): Dropout(p=0.1, inplace=False)\n",
      "    (1): Linear(in_features=21, out_features=8, bias=True)\n",
      "    (2): ReLU()\n",
      "    (3): Dropout(p=0.1, inplace=False)\n",
      "    (4): Linear(in_features=8, out_features=5, bias=True)\n",
      "  )\n",
      ")\n"
     ]
    },
    {
     "data": {
      "application/vnd.jupyter.widget-view+json": {
       "model_id": "1365dc89fcc144d09ff589cbb2f3ba1a",
       "version_major": 2,
       "version_minor": 0
      },
      "text/plain": [
       "  0%|          | 0/7160 [00:00<?, ?it/s]"
      ]
     },
     "metadata": {},
     "output_type": "display_data"
    },
    {
     "ename": "KeyboardInterrupt",
     "evalue": "",
     "output_type": "error",
     "traceback": [
      "\u001b[1;31m---------------------------------------------------------------------------\u001b[0m",
      "\u001b[1;31mKeyboardInterrupt\u001b[0m                         Traceback (most recent call last)",
      "Cell \u001b[1;32mIn[23], line 27\u001b[0m\n\u001b[0;32m     25\u001b[0m \u001b[38;5;28;01mfor\u001b[39;00m params \u001b[38;5;129;01min\u001b[39;00m combinations:\n\u001b[0;32m     26\u001b[0m     \u001b[38;5;28mprint\u001b[39m(\u001b[38;5;124mf\u001b[39m\u001b[38;5;124m\"\u001b[39m\u001b[38;5;124mTesting combination: \u001b[39m\u001b[38;5;132;01m{\u001b[39;00mparams\u001b[38;5;132;01m}\u001b[39;00m\u001b[38;5;124m\"\u001b[39m)\n\u001b[1;32m---> 27\u001b[0m     evaluation_loss \u001b[38;5;241m=\u001b[39m \u001b[43mtrain_and_evaluate\u001b[49m\u001b[43m(\u001b[49m\u001b[43mparams\u001b[49m\u001b[43m)\u001b[49m\n\u001b[0;32m     29\u001b[0m     \u001b[38;5;28;01mif\u001b[39;00m evaluation_loss \u001b[38;5;241m<\u001b[39m best_loss:\n\u001b[0;32m     30\u001b[0m         best_loss \u001b[38;5;241m=\u001b[39m evaluation_loss\n",
      "Cell \u001b[1;32mIn[23], line 9\u001b[0m, in \u001b[0;36mtrain_and_evaluate\u001b[1;34m(params)\u001b[0m\n\u001b[0;32m      6\u001b[0m optimizer \u001b[38;5;241m=\u001b[39m Adam(model\u001b[38;5;241m.\u001b[39mparameters(), lr\u001b[38;5;241m=\u001b[39mparams[\u001b[38;5;124m'\u001b[39m\u001b[38;5;124mlr\u001b[39m\u001b[38;5;124m'\u001b[39m])\n\u001b[0;32m      8\u001b[0m \u001b[38;5;66;03m# Train the model\u001b[39;00m\n\u001b[1;32m----> 9\u001b[0m model, training_loss_log, evaluation_loss_log, percentage_error_log \u001b[38;5;241m=\u001b[39m \u001b[43mtrain_phytopredictor\u001b[49m\u001b[43m(\u001b[49m\n\u001b[0;32m     10\u001b[0m \u001b[43m    \u001b[49m\u001b[43mmodel\u001b[49m\u001b[43m,\u001b[49m\u001b[43m \u001b[49m\u001b[43moptimizer\u001b[49m\u001b[43m,\u001b[49m\u001b[43m \u001b[49m\u001b[43mdata\u001b[49m\u001b[43m,\u001b[49m\u001b[43m \u001b[49m\u001b[43mtrial_name\u001b[49m\u001b[43m,\u001b[49m\u001b[43m \u001b[49m\u001b[43mabio_columns\u001b[49m\u001b[43m,\u001b[49m\u001b[43m \u001b[49m\u001b[43mgroup_labels\u001b[49m\u001b[43m,\u001b[49m\u001b[43m \u001b[49m\u001b[43mshuffled_rows\u001b[49m\u001b[43m,\u001b[49m\n\u001b[0;32m     11\u001b[0m \u001b[43m    \u001b[49m\u001b[43mrandom_seed\u001b[49m\u001b[43m,\u001b[49m\u001b[43m \u001b[49m\u001b[43mparams\u001b[49m\u001b[43m[\u001b[49m\u001b[38;5;124;43m'\u001b[39;49m\u001b[38;5;124;43mtrain_ratio\u001b[39;49m\u001b[38;5;124;43m'\u001b[39;49m\u001b[43m]\u001b[49m\u001b[43m,\u001b[49m\u001b[43m \u001b[49m\u001b[43mminimum_lookback\u001b[49m\u001b[43m,\u001b[49m\u001b[43m \u001b[49m\u001b[43mparams\u001b[49m\u001b[43m[\u001b[49m\u001b[38;5;124;43m'\u001b[39;49m\u001b[38;5;124;43mlookback\u001b[39;49m\u001b[38;5;124;43m'\u001b[39;49m\u001b[43m]\u001b[49m\u001b[43m,\u001b[49m\u001b[43m \u001b[49m\n\u001b[0;32m     12\u001b[0m \u001b[43m    \u001b[49m\u001b[43mloss_metric\u001b[49m\u001b[43m,\u001b[49m\u001b[43m \u001b[49m\u001b[43mparams\u001b[49m\u001b[43m[\u001b[49m\u001b[38;5;124;43m'\u001b[39;49m\u001b[38;5;124;43mepochs\u001b[39;49m\u001b[38;5;124;43m'\u001b[39;49m\u001b[43m]\u001b[49m\u001b[43m,\u001b[49m\u001b[43m \u001b[49m\u001b[43mcheck_interval\u001b[49m\n\u001b[0;32m     13\u001b[0m \u001b[43m\u001b[49m\u001b[43m)\u001b[49m\n\u001b[0;32m     15\u001b[0m \u001b[38;5;66;03m# Evaluate the model\u001b[39;00m\n\u001b[0;32m     16\u001b[0m evaluation_loss \u001b[38;5;241m=\u001b[39m evaluation_loss_log[\u001b[38;5;241m-\u001b[39m\u001b[38;5;241m1\u001b[39m]  \u001b[38;5;66;03m# Assuming the last value is the evaluation loss\u001b[39;00m\n",
      "File \u001b[1;32mc:\\Users\\rijkj\\OneDrive\\Documenten\\Universiteit van Amsterdam\\Vakken\\tweedejaarsproject\\2eJaarsKIProject2024\\scripts\\NN\\Phytopredictor.py:370\u001b[0m, in \u001b[0;36mtrain_phytopredictor\u001b[1;34m(model, optimiser, data, trial_name, abio_columns, phyto_columns, shuffled_rows, random_seed, train_ratio, minimum_lookback, lookback, loss_metric, epochs, check_interval)\u001b[0m\n\u001b[0;32m    366\u001b[0m \u001b[38;5;66;03m# every so often we check whether the model has improved or not (so we can save the best version)\u001b[39;00m\n\u001b[0;32m    367\u001b[0m \u001b[38;5;28;01mif\u001b[39;00m step \u001b[38;5;241m%\u001b[39m check_interval \u001b[38;5;241m==\u001b[39m \u001b[38;5;241m0\u001b[39m: \n\u001b[0;32m    368\u001b[0m \n\u001b[0;32m    369\u001b[0m     \u001b[38;5;66;03m# we do a first pass of the evaluation set and calculate the current loss (as a base thingy)\u001b[39;00m\n\u001b[1;32m--> 370\u001b[0m     _, eval_loss, percentage_error \u001b[38;5;241m=\u001b[39m \u001b[43mpredict\u001b[49m\u001b[43m(\u001b[49m\n\u001b[0;32m    371\u001b[0m \u001b[43m        \u001b[49m\u001b[43mmodel\u001b[49m\u001b[43m,\u001b[49m\n\u001b[0;32m    372\u001b[0m \u001b[43m        \u001b[49m\u001b[43mevaluation_split\u001b[49m\u001b[43m,\u001b[49m\n\u001b[0;32m    373\u001b[0m \u001b[43m        \u001b[49m\u001b[43mloss_metric\u001b[49m\u001b[43m,\u001b[49m\n\u001b[0;32m    374\u001b[0m \u001b[43m        \u001b[49m\u001b[43mcalc_loss\u001b[49m\u001b[38;5;241;43m=\u001b[39;49m\u001b[38;5;28;43;01mTrue\u001b[39;49;00m\u001b[43m,\u001b[49m\n\u001b[0;32m    375\u001b[0m \u001b[43m        \u001b[49m\u001b[43mcalc_percentage_error\u001b[49m\u001b[38;5;241;43m=\u001b[39;49m\u001b[38;5;28;43;01mTrue\u001b[39;49;00m\n\u001b[0;32m    376\u001b[0m \u001b[43m    \u001b[49m\u001b[43m)\u001b[49m\n\u001b[0;32m    378\u001b[0m     \u001b[38;5;66;03m# and record the loss ofcourse\u001b[39;00m\n\u001b[0;32m    379\u001b[0m     evaluation_loss_log\u001b[38;5;241m.\u001b[39mappend(eval_loss)\n",
      "File \u001b[1;32mc:\\Users\\rijkj\\OneDrive\\Documenten\\Universiteit van Amsterdam\\Vakken\\tweedejaarsproject\\2eJaarsKIProject2024\\scripts\\NN\\Phytopredictor.py:229\u001b[0m, in \u001b[0;36mpredict\u001b[1;34m(model, data, loss_metric, calc_loss, calc_percentage_error)\u001b[0m\n\u001b[0;32m    227\u001b[0m         \u001b[38;5;28;01mif\u001b[39;00m calc_percentage_error:\n\u001b[0;32m    228\u001b[0m             percentage_error \u001b[38;5;241m=\u001b[39m (\u001b[38;5;28mabs\u001b[39m(actual_concentrations \u001b[38;5;241m-\u001b[39m concentrations) \u001b[38;5;241m/\u001b[39m actual_concentrations) \u001b[38;5;241m*\u001b[39m \u001b[38;5;241m100\u001b[39m\n\u001b[1;32m--> 229\u001b[0m             \u001b[43mall_percentage_errors\u001b[49m\u001b[38;5;241;43m.\u001b[39;49m\u001b[43mappend\u001b[49m\u001b[43m(\u001b[49m\u001b[43mpercentage_error\u001b[49m\u001b[43m)\u001b[49m\n\u001b[0;32m    231\u001b[0m output \u001b[38;5;241m=\u001b[39m [concentrations]\n\u001b[0;32m    233\u001b[0m \u001b[38;5;66;03m# if we keep track of the loss, we return the average loss along with our concentrations\u001b[39;00m\n",
      "\u001b[1;31mKeyboardInterrupt\u001b[0m: "
     ]
    }
   ],
   "source": [
    "def train_and_evaluate(params):\n",
    "    # Create model and optimizer with the given hyperparameters\n",
    "    model = PhytoPredictor(input_size_phyto, lstm_hidden_size, input_size_abio, \n",
    "                           ffnn_hidden_size, output_size, params['p_drop'], \n",
    "                           params['bidirectional'])\n",
    "    optimizer = Adam(model.parameters(), lr=params['lr'])\n",
    "    \n",
    "    # Train the model\n",
    "    model, training_loss_log, evaluation_loss_log, percentage_error_log = train_phytopredictor(\n",
    "        model, optimizer, data, trial_name, abio_columns, group_labels, shuffled_rows,\n",
    "        random_seed, params['train_ratio'], minimum_lookback, params['lookback'], \n",
    "        loss_metric, params['epochs'], check_interval\n",
    "    )\n",
    "    \n",
    "    # Evaluate the model\n",
    "    evaluation_loss = evaluation_loss_log[-1]  # Assuming the last value is the evaluation loss\n",
    "    \n",
    "    return evaluation_loss\n",
    "\n",
    "# Initialize variables to store the best hyperparameters and the corresponding loss\n",
    "best_params = None\n",
    "best_loss = float('inf')\n",
    "\n",
    "# Iterate over all combinations of hyperparameters\n",
    "for params in combinations:\n",
    "    print(f\"Testing combination: {params}\")\n",
    "    evaluation_loss = train_and_evaluate(params)\n",
    "    \n",
    "    if evaluation_loss < best_loss:\n",
    "        best_loss = evaluation_loss\n",
    "        best_params = params\n",
    "\n",
    "print(\"Best hyperparameters found:\")\n",
    "print(best_params)\n",
    "print(f\"Validation Loss: {best_loss}\")\n"
   ]
  }
 ],
 "metadata": {
  "kernelspec": {
   "display_name": "base",
   "language": "python",
   "name": "python3"
  },
  "language_info": {
   "codemirror_mode": {
    "name": "ipython",
    "version": 3
   },
   "file_extension": ".py",
   "mimetype": "text/x-python",
   "name": "python",
   "nbconvert_exporter": "python",
   "pygments_lexer": "ipython3",
   "version": "3.10.14"
  }
 },
 "nbformat": 4,
 "nbformat_minor": 2
}
