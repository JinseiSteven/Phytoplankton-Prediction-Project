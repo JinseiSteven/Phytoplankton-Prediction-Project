{
 "cells": [
  {
   "cell_type": "code",
   "execution_count": 13,
   "metadata": {},
   "outputs": [],
   "source": [
    "import torch \n",
    "import pandas as pd\n",
    "import numpy as np\n",
    "import random"
   ]
  },
  {
   "cell_type": "markdown",
   "metadata": {},
   "source": [
    "## Load mock data for testing"
   ]
  },
  {
   "cell_type": "code",
   "execution_count": 12,
   "metadata": {},
   "outputs": [],
   "source": [
    "K = 5 # number of phytoplankton clusters\n",
    "A = 10 # number of abiotic input variables\n",
    "bio_input_size = (1, 2*K) # output of bi-lstm\n",
    "abio_input_size = (1, A) # abiotic values per variable\n",
    "\n",
    "bio_mock_input = np.array([np.random.uniform(0, 3) for _ in range(bio_input_size[1])]).reshape(bio_input_size)\n",
    "abio_mock_input = np.array([np.random.uniform(0, 100) for _ in range(abio_input_size[1])]).reshape(abio_input_size)\n",
    "\n",
    "input_array = np.hstack([bio_mock_input, abio_mock_input])\n"
   ]
  },
  {
   "cell_type": "markdown",
   "metadata": {},
   "source": [
    "## Convert clusters and biotic data to training and test set"
   ]
  },
  {
   "cell_type": "code",
   "execution_count": null,
   "metadata": {},
   "outputs": [],
   "source": [
    "abiotic_data = "
   ]
  },
  {
   "cell_type": "markdown",
   "metadata": {},
   "source": [
    "## Load into torch"
   ]
  },
  {
   "cell_type": "code",
   "execution_count": 4,
   "metadata": {},
   "outputs": [],
   "source": [
    "input = torch.tensor(input_array)"
   ]
  },
  {
   "cell_type": "code",
   "execution_count": 10,
   "metadata": {},
   "outputs": [],
   "source": [
    "import torch.nn as nn \n",
    "import torch.nn.functional as F\n",
    "import torch.optim as optim"
   ]
  },
  {
   "cell_type": "code",
   "execution_count": 8,
   "metadata": {},
   "outputs": [],
   "source": [
    "class PhytoPredictor(nn.Module):\n",
    "    def __init__(self, input_size_phyto, hidden_size, num_layers, input_size_abio, output_size):\n",
    "        super(PhytoPredictor, self).__init__()\n",
    "        \n",
    "        # LSTM layer for the history input\n",
    "        self.lstm = nn.LSTM(input_size_phyto, hidden_size, num_layers, batch_first=True)\n",
    "        \n",
    "        # Fully connected layer\n",
    "        self.fc = nn.Linear(hidden_size + input_size_abio, output_size)\n",
    "\n",
    "    def forward(self, history_input, feature_input):\n",
    "        # Pass the history input through the LSTM\n",
    "        lstm_out, _ = self.lstm(history_input)\n",
    "        \n",
    "        # Use the output of the last LSTM cell\n",
    "        lstm_out = lstm_out[:, -1, :]\n",
    "        \n",
    "        # Concatenate the LSTM output with the feature input\n",
    "        combined_input = torch.cat((lstm_out, feature_input), dim=1)\n",
    "        \n",
    "        # Pass the combined input through the fully connected layer\n",
    "        fc_output = self.fc(combined_input)\n",
    "\n",
    "        # Pass the outpu through a ReLU\n",
    "        output = F.ReLu(fc_output)\n",
    "        \n",
    "        return output"
   ]
  },
  {
   "cell_type": "code",
   "execution_count": 9,
   "metadata": {},
   "outputs": [
    {
     "name": "stdout",
     "output_type": "stream",
     "text": [
      "Network(\n",
      "  (fc1): Linear(in_features=20, out_features=5, bias=True)\n",
      ")\n"
     ]
    }
   ],
   "source": [
    "model = PhytoPredictor()\n",
    "print(model)"
   ]
  },
  {
   "cell_type": "code",
   "execution_count": 11,
   "metadata": {},
   "outputs": [],
   "source": [
    "criterion = nn.MSELoss()\n",
    "optimizer = optim.SGD(model.parameters(), lr=0.001, momentum=0.9)"
   ]
  },
  {
   "cell_type": "markdown",
   "metadata": {},
   "source": [
    "## Prepare the dataset"
   ]
  },
  {
   "cell_type": "code",
   "execution_count": null,
   "metadata": {},
   "outputs": [],
   "source": []
  }
 ],
 "metadata": {
  "kernelspec": {
   "display_name": "base",
   "language": "python",
   "name": "python3"
  },
  "language_info": {
   "codemirror_mode": {
    "name": "ipython",
    "version": 3
   },
   "file_extension": ".py",
   "mimetype": "text/x-python",
   "name": "python",
   "nbconvert_exporter": "python",
   "pygments_lexer": "ipython3",
   "version": "3.10.14"
  }
 },
 "nbformat": 4,
 "nbformat_minor": 2
}
